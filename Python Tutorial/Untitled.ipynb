{
 "cells": [
  {
   "cell_type": "markdown",
   "id": "a780b098",
   "metadata": {},
   "source": [
    "# Python Code and Notes By Vithusan"
   ]
  },
  {
   "cell_type": "markdown",
   "id": "a8297047",
   "metadata": {},
   "source": [
    "# Variables\n",
    "\n",
    "### 1. **Dynamic Typing**:\n",
    "- Python uses dynamic typing. This means you don't need to explicitly declare the type of a variable when assigning a value to it.\n",
    "- The variable type is inferred at runtime based on the value assigned to it.\n",
    "\n",
    "\n",
    "### 2. **Variable Naming Conventions**:\n",
    "- Variable names can contain letters, numbers, and underscores but can't start with a number.\n",
    "- Python variables are case-sensitive.\n",
    "- Descriptive variable names improve code readability.\n",
    "- It's a good practice to use snake_case (lowercase with underscores) for variable names.\n",
    "\n",
    "\n",
    "### 3. **Variable Assignment**:\n",
    "- Assign values to variables using the `=` operator.\n",
    "- Multiple assignments can be done on a single line.\n",
    "- Variables can be reassigned to different data types during the execution of a program.\n",
    "\n",
    "\n",
    "### 4. **Variable Scope**:\n",
    "- The scope of a variable defines where it can be accessed or referenced within the code.\n",
    "- Variables declared inside a function have local scope and are only accessible within that function.\n",
    "- Variables declared outside functions or at the global level have global scope and can be accessed from anywhere in the code.\n",
    "\n",
    "\n",
    "### 5. **Immutable vs. Mutable**:\n",
    "- Immutable data types (e.g., int, float, str, tuple) cannot be changed after creation. Reassigning a value creates a new object.\n",
    "- Mutable data types (e.g., list, dict, set) can be modified after creation without changing their identity.\n",
    "\n",
    "\n",
    "### 6. **Variable Types**:\n",
    "- Python has various built-in data types for variables, including integers (`int`), floating-point numbers (`float`), strings (`str`), lists (`list`), tuples (`tuple`), dictionaries (`dict`), sets (`set`), and more.\n",
    "- Type casting can be done using functions like `int()`, `float()`, `str()`, etc., to convert variables from one type to another.\n",
    "\n",
    "\n",
    "### 7. **Deleting Variables**:\n",
    "- Use the `del` keyword to delete a variable and free up the memory it occupies.\n",
    "\n",
    "\n",
    "Example:\n",
    "### Variable assignment\n",
    "x = 10\n",
    "y = \"Hello\"\n",
    "z = [1, 2, 3]\n",
    "\n",
    "\n",
    "### Variable types and type casting\n",
    "x = float(x)\n",
    "y = list(y)\n",
    "\n",
    "\n",
    "### Variable scope\n",
    "def my_function():\n",
    "    local_var = \"Local variable\"\n",
    "    print(local_var)  # Accessible within the function\n",
    "\n",
    "my_function()\n",
    "print(x, y, z)  # Accessible here\n",
    "\n",
    "\n",
    "### Deleting variables\n",
    "del z\n"
   ]
  },
  {
   "cell_type": "code",
   "execution_count": 22,
   "id": "ddf319d7",
   "metadata": {
    "scrolled": true
   },
   "outputs": [
    {
     "name": "stdout",
     "output_type": "stream",
     "text": [
      "20\n"
     ]
    }
   ],
   "source": [
    "a = 10\n",
    "b = 10\n",
    "print(a+b)"
   ]
  },
  {
   "cell_type": "code",
   "execution_count": 23,
   "id": "f0caf863",
   "metadata": {},
   "outputs": [
    {
     "name": "stdout",
     "output_type": "stream",
     "text": [
      "Python is awesome\n"
     ]
    }
   ],
   "source": [
    "x = \"awesome\"\n",
    "\n",
    "def myfunc():\n",
    "  print(\"Python is \" + x)\n",
    "\n",
    "myfunc()"
   ]
  },
  {
   "cell_type": "code",
   "execution_count": 24,
   "id": "babebeac",
   "metadata": {},
   "outputs": [
    {
     "name": "stdout",
     "output_type": "stream",
     "text": [
      "Python is fantastic\n"
     ]
    }
   ],
   "source": [
    "def myfunc():\n",
    "  global x\n",
    "  x = \"fantastic\"\n",
    "\n",
    "myfunc()\n",
    "\n",
    "print(\"Python is \" + x)"
   ]
  },
  {
   "cell_type": "code",
   "execution_count": 16,
   "id": "bfb3210f",
   "metadata": {},
   "outputs": [
    {
     "name": "stdout",
     "output_type": "stream",
     "text": [
      "x: 10\n",
      "y: Hello\n",
      "z: [1, 2, 3]\n",
      "Type of x: <class 'float'>\n",
      "Type of y: <class 'list'>\n",
      "Inside function - local_var: Local variable\n",
      "Inside function - global_var: Global variable\n",
      "Outside function - global_var: Global variable\n"
     ]
    }
   ],
   "source": [
    "# Variable assignment\n",
    "x = 10\n",
    "y = \"Hello\"\n",
    "z = [1, 2, 3]\n",
    "\n",
    "# Printing variable values\n",
    "print(\"x:\", x)\n",
    "print(\"y:\", y)\n",
    "print(\"z:\", z)\n",
    "\n",
    "# Variable types and type casting\n",
    "x = float(x)\n",
    "y = list(y)\n",
    "\n",
    "print(\"Type of x:\", type(x))\n",
    "print(\"Type of y:\", type(y))\n",
    "\n",
    "# Variable scope\n",
    "global_var = \"Global variable\"\n",
    "\n",
    "def my_function():\n",
    "    local_var = \"Local variable\"\n",
    "    print(\"Inside function - local_var:\", local_var)  # Accessible within the function\n",
    "    print(\"Inside function - global_var:\", global_var)  # Accessible within the function\n",
    "\n",
    "my_function()\n",
    "print(\"Outside function - global_var:\", global_var)  # Accessible here\n",
    "\n",
    "# Deleting variables\n",
    "del z\n",
    "\n",
    "# Error: This will raise an error because z is deleted\n",
    "# print(\"z:\", z)\n"
   ]
  },
  {
   "cell_type": "markdown",
   "id": "a88150ef",
   "metadata": {},
   "source": [
    "# Datatypes\n",
    "\n",
    "### 1. **Built-in Data Types**:\n",
    "- Python provides several built-in data types:\n",
    "    - **Numeric Types**: Integers (`int`), Floating-point numbers (`float`), Complex numbers (`complex`)\n",
    "    - **Sequence Types**: Strings (`str`), Lists (`list`), Tuples (`tuple`)\n",
    "    - **Mapping Type**: Dictionaries (`dict`)\n",
    "    - **Set Types**: Sets (`set`), Frozen sets (`frozenset`)\n",
    "    - **Boolean Type**: Boolean (`bool`)\n",
    "    - **None Type**: `None`\n",
    "\n",
    "\n",
    "### 2. **Dynamic Typing**:\n",
    "- Python is dynamically typed, meaning you don't need to declare the data type explicitly.\n",
    "- The interpreter infers the data type based on the value assigned to the variable.\n",
    "\n",
    "\n",
    "### 3. **Mutable vs. Immutable**:\n",
    "- **Mutable Types**: Can be modified after creation (e.g., lists, dictionaries, sets).\n",
    "- **Immutable Types**: Cannot be modified after creation (e.g., integers, floats, strings, tuples).\n",
    "\n",
    "\n",
    "### 4. **Type Casting**:\n",
    "- You can convert between different data types using built-in functions like `int()`, `float()`, `str()`, `list()`, `tuple()`, `dict()`, `set()`, etc.\n",
    "\n",
    "\n",
    "### 5. **Sequences**:\n",
    "- **Strings**: Immutable sequences of characters enclosed in single or double quotes.\n",
    "- **Lists**: Mutable sequences of elements enclosed in square brackets `[]`.\n",
    "- **Tuples**: Immutable sequences of elements enclosed in parentheses `()`.\n",
    "\n",
    "\n",
    "### 6. **Mapping**:\n",
    "- **Dictionaries**: Collection of key-value pairs enclosed in curly braces `{}`. Keys are unique and immutable; values can be of any data type.\n",
    "\n",
    "\n",
    "### 7. **Sets**:\n",
    "- **Sets**: Unordered collections of unique elements enclosed in curly braces `{}`. Sets do not allow duplicate elements.\n",
    "\n",
    "\n",
    "### 8. **Boolean Type**:\n",
    "- Represents truth values, `True` or `False`, used for logical operations and conditions.\n",
    "\n",
    "\n",
    "### 9. **None Type**:\n",
    "- Represents absence of a value or null.\n",
    "\n",
    "\n",
    "### 10. **Type Checking and Conversion**:\n",
    "- Use `type()` function to check the type of a variable.\n",
    "- Type conversion is done explicitly using type-casting functions or implicitly in certain operations."
   ]
  },
  {
   "cell_type": "code",
   "execution_count": 7,
   "id": "c78043f4",
   "metadata": {},
   "outputs": [
    {
     "name": "stdout",
     "output_type": "stream",
     "text": [
      "<class 'str'>\n",
      "<class 'int'>\n"
     ]
    }
   ],
   "source": [
    "a = 10\n",
    "b = \"vithu\"\n",
    "\n",
    "print(type(b))\n",
    "print(type(a))"
   ]
  },
  {
   "cell_type": "code",
   "execution_count": 17,
   "id": "2b386d96",
   "metadata": {},
   "outputs": [
    {
     "name": "stdout",
     "output_type": "stream",
     "text": [
      "Integer Number: 10\n",
      "Float Number: 3.14\n",
      "Complex Number: (2+3j)\n",
      "String: Hello, Python!\n",
      "List: [1, 2, 3, 4, 5]\n",
      "Tuple: (10, 20, 30)\n",
      "Dictionary: {'one': 1, 'two': 2, 'three': 3}\n",
      "Set: {1, 2, 3, 4, 5}\n",
      "Boolean: True\n",
      "None Type: None\n"
     ]
    }
   ],
   "source": [
    "# Numeric types\n",
    "integer_num = 10\n",
    "float_num = 3.14\n",
    "complex_num = 2 + 3j\n",
    "\n",
    "print(\"Integer Number:\", integer_num)\n",
    "print(\"Float Number:\", float_num)\n",
    "print(\"Complex Number:\", complex_num)\n",
    "\n",
    "# Strings\n",
    "string_var = \"Hello, Python!\"\n",
    "print(\"String:\", string_var)\n",
    "\n",
    "# Lists\n",
    "list_var = [1, 2, 3, 4, 5]\n",
    "print(\"List:\", list_var)\n",
    "\n",
    "# Tuples\n",
    "tuple_var = (10, 20, 30)\n",
    "print(\"Tuple:\", tuple_var)\n",
    "\n",
    "# Dictionaries\n",
    "dict_var = {'one': 1, 'two': 2, 'three': 3}\n",
    "print(\"Dictionary:\", dict_var)\n",
    "\n",
    "# Sets\n",
    "set_var = {1, 2, 3, 4, 5}\n",
    "print(\"Set:\", set_var)\n",
    "\n",
    "# Boolean\n",
    "bool_var = True\n",
    "print(\"Boolean:\", bool_var)\n",
    "\n",
    "# None Type\n",
    "none_var = None\n",
    "print(\"None Type:\", none_var)\n"
   ]
  },
  {
   "cell_type": "code",
   "execution_count": 9,
   "id": "76137562",
   "metadata": {},
   "outputs": [
    {
     "name": "stdout",
     "output_type": "stream",
     "text": [
      "7\n"
     ]
    }
   ],
   "source": [
    "#Operators(+ - * / %)\n",
    "\n",
    "a = 5 \n",
    "b = 2 \n",
    "c = a + b\n",
    "\n",
    "print(c)"
   ]
  },
  {
   "cell_type": "markdown",
   "id": "c147ebdc",
   "metadata": {},
   "source": [
    "# Type Casting\n",
    "\n",
    "### 1. **Implicit Type Conversion**:\n",
    "- Python performs implicit type conversion in certain situations automatically.\n",
    "- For example, adding an integer and a float results in a float, as Python automatically converts the integer to a float.\n",
    "\n",
    "Example:\n",
    "x = 10  # Integer\n",
    "y = 3.14  # Float\n",
    "\n",
    "result = x + y  # Implicit conversion of integer to float\n",
    "print(result)  # Output will be a float: 13.14\n",
    "\n",
    "### 2. **Explicit Type Conversion**:\n",
    "- Python provides built-in functions to explicitly convert variables from one type to another.\n",
    "- Common type-casting functions include `int()`, `float()`, `str()`, `list()`, `tuple()`, `dict()`, `set()`, etc.\n",
    "\n",
    "\n",
    "Example:\n",
    "### Explicit type conversion\n",
    "num_str = \"25\"  # String containing a number\n",
    "\n",
    "\n",
    "### Converting string to integer\n",
    "num_int = int(num_str)\n",
    "print(num_int)  # Output will be an integer: 25\n",
    "\n",
    "\n",
    "### 3. **Conversion Between Compatible Types**:\n",
    "- Type casting works between compatible data types where conversion is meaningful.\n",
    "- For instance, converting a string representing a numeric value to an integer or float.\n",
    "\n",
    "Example:\n",
    "### Converting string to float\n",
    "num_float = float(num_str)\n",
    "print(num_float)  # Output will be a float: 25.0\n",
    "\n",
    "\n",
    "### 4. **Potential Data Loss**:\n",
    "- Be cautious when converting between types, as there might be data loss in certain conversions.\n",
    "- For instance, converting a floating-point number to an integer results in the loss of decimal values.\n",
    "\n",
    "\n",
    "Example:\n",
    "### Floating-point to integer conversion (data loss)\n",
    "float_num = 3.75\n",
    "int_num = int(float_num)\n",
    "print(int_num)  # Output will be an integer: 3 (decimal part is truncated)\n",
    "\n",
    "\n",
    "### 5. **Handling Errors**:\n",
    "- Type casting can sometimes raise errors if the conversion is not possible.\n",
    "- For instance, trying to convert a string that doesn't represent a valid number to an integer will raise a `ValueError`.\n",
    "\n",
    "\n",
    "Example:\n",
    "invalid_str = \"Hello\"\n",
    "### Error: This will raise a ValueError because \"Hello\" cannot be converted to an integer\n",
    "### invalid_int = int(invalid_str)\n"
   ]
  },
  {
   "cell_type": "code",
   "execution_count": 18,
   "id": "a1445380",
   "metadata": {},
   "outputs": [
    {
     "name": "stdout",
     "output_type": "stream",
     "text": [
      "Implicit Conversion Result: 13.14\n",
      "Integer Conversion Result: 25\n",
      "Float Conversion Result: 25.0\n",
      "Floating to Integer Conversion Result: 3\n"
     ]
    }
   ],
   "source": [
    "# Implicit type conversion\n",
    "x = 10  # Integer\n",
    "y = 3.14  # Float\n",
    "\n",
    "result = x + y  # Implicit conversion of integer to float\n",
    "print(\"Implicit Conversion Result:\", result)  # Output will be a float: 13.14\n",
    "\n",
    "# Explicit type conversion\n",
    "num_str = \"25\"  # String containing a number\n",
    "\n",
    "# Converting string to integer\n",
    "num_int = int(num_str)\n",
    "print(\"Integer Conversion Result:\", num_int)  # Output will be an integer: 25\n",
    "\n",
    "# Converting string to float\n",
    "num_float = float(num_str)\n",
    "print(\"Float Conversion Result:\", num_float)  # Output will be a float: 25.0\n",
    "\n",
    "# Floating-point to integer conversion (data loss)\n",
    "float_num = 3.75\n",
    "int_num = int(float_num)\n",
    "print(\"Floating to Integer Conversion Result:\", int_num)  # Output will be an integer: 3 (decimal part is truncated)\n",
    "\n",
    "# Handling errors - converting invalid string to integer\n",
    "invalid_str = \"Hello\"\n",
    "# Error: This will raise a ValueError because \"Hello\" cannot be converted to an integer\n",
    "# invalid_int = int(invalid_str)\n"
   ]
  },
  {
   "cell_type": "code",
   "execution_count": 15,
   "id": "ba230ca4",
   "metadata": {},
   "outputs": [
    {
     "name": "stdout",
     "output_type": "stream",
     "text": [
      "30\n"
     ]
    }
   ],
   "source": [
    "#Converting one data type to another Data type\n",
    "\n",
    "a = int(\"10\") #Convert str to int\n",
    "b = int(\"20\")\n",
    "\n",
    "c = a + b\n",
    "\n",
    "print(c)"
   ]
  },
  {
   "cell_type": "markdown",
   "id": "4a209ba4",
   "metadata": {},
   "source": [
    "# Get User input\n",
    "\n",
    "### 1. **`input()` Function**:\n",
    "- The `input()` function is used to take user input from the keyboard.\n",
    "- It waits for the user to enter some text and press Enter.\n",
    "- By default, `input()` treats the user input as a string.\n",
    "\n",
    "Example:\n",
    "user_input = input(\"Enter something: \")\n",
    "print(\"You entered:\", user_input)\n",
    "\n",
    "\n",
    "### 2. **Prompting User for Input**:\n",
    "- You can provide a prompt inside the `input()` function to instruct the user on what to input.\n",
    "- The prompt is displayed on the console before waiting for input.\n",
    "\n",
    "Example:\n",
    "name = input(\"Enter your name: \")\n",
    "print(\"Hello,\", name)\n",
    "\n",
    "\n",
    "### 3. **Type Conversion of Input**:\n",
    "- `input()` returns a string even if the user enters a number or other data types.\n",
    "- Use type casting functions (`int()`, `float()`, etc.) to convert input to the desired data type.\n",
    "\n",
    "Example:\n",
    "age = int(input(\"Enter your age: \"))\n",
    "print(\"Your age is:\", age)\n",
    "\n",
    "\n",
    "### 4. **Handling User Input**:\n",
    "- User input should be validated and handled carefully, especially when expecting specific types or formats.\n",
    "- Consider using conditional statements or try-except blocks to handle unexpected input.\n",
    "\n",
    "Example:\n",
    "while True:\n",
    "    try:\n",
    "        num = float(input(\"Enter a number: \"))\n",
    "        print(\"You entered:\", num)\n",
    "        break\n",
    "    except ValueError:\n",
    "        print(\"Invalid input. Please enter a number.\")\n",
    "\n",
    "\n",
    "### 5. **Whitespace Trimming**:\n",
    "- `input()` function returns the user's input with leading and trailing whitespace removed.\n",
    "- To preserve leading or trailing whitespace, use `raw_input()` in Python 2 or manipulate the input string directly.\n",
    "\n",
    "Example:\n",
    "user_input = input(\"Enter something: \")\n",
    "print(\"Length of input:\", len(user_input))  # Counts characters without leading/trailing whitespace"
   ]
  },
  {
   "cell_type": "code",
   "execution_count": 1,
   "id": "5465d553",
   "metadata": {
    "scrolled": false
   },
   "outputs": [
    {
     "name": "stdout",
     "output_type": "stream",
     "text": [
      "12\n",
      "22\n",
      "Without conversion :  1222\n",
      "22\n",
      "22\n",
      "With Conversion :  44\n"
     ]
    }
   ],
   "source": [
    "a = input() #Default input method will be in string mode\n",
    "b = input()\n",
    "c = a + b\n",
    "\n",
    "print(\"Without conversion : \", c)\n",
    "\n",
    "x = int(input())\n",
    "y = int(input())\n",
    "z = x + y\n",
    "\n",
    "print(\"With Conversion : \", z)"
   ]
  },
  {
   "cell_type": "code",
   "execution_count": 19,
   "id": "1862a89f",
   "metadata": {},
   "outputs": [
    {
     "name": "stdout",
     "output_type": "stream",
     "text": [
      "Enter your name: Vithu\n",
      "Hello, Vithu\n",
      "Enter your age: 22\n",
      "Your age is: 22\n",
      "Enter a number: 5\n",
      "You entered: 5\n",
      "Enter a floating-point number: 7.2\n",
      "You entered: 7.2\n"
     ]
    }
   ],
   "source": [
    "# Getting user input\n",
    "name = input(\"Enter your name: \")\n",
    "print(\"Hello,\", name)\n",
    "\n",
    "# Converting input to integer\n",
    "while True:\n",
    "    try:\n",
    "        age = int(input(\"Enter your age: \"))\n",
    "        print(\"Your age is:\", age)\n",
    "        break\n",
    "    except ValueError:\n",
    "        print(\"Invalid input. Please enter a valid age.\")\n",
    "\n",
    "# Handling whitespace and invalid input\n",
    "while True:\n",
    "    user_input = input(\"Enter a number: \")\n",
    "    user_input = user_input.strip()  # Removing leading and trailing whitespace\n",
    "\n",
    "    if user_input.isdigit():  # Checking if the input consists of digits\n",
    "        num = int(user_input)\n",
    "        print(\"You entered:\", num)\n",
    "        break\n",
    "    else:\n",
    "        print(\"Invalid input. Please enter a valid number.\")\n",
    "\n",
    "# Handling floats and invalid input\n",
    "while True:\n",
    "    try:\n",
    "        float_input = float(input(\"Enter a floating-point number: \"))\n",
    "        print(\"You entered:\", float_input)\n",
    "        break\n",
    "    except ValueError:\n",
    "        print(\"Invalid input. Please enter a valid floating-point number.\")\n"
   ]
  },
  {
   "cell_type": "markdown",
   "id": "439269a0",
   "metadata": {},
   "source": [
    "# sample input Excercise"
   ]
  },
  {
   "cell_type": "code",
   "execution_count": null,
   "id": "318a7ec5",
   "metadata": {},
   "outputs": [],
   "source": [
    "name = input(\"Enter your name : \")\n",
    "age = int(input(\"Enter your age : \"))\n",
    "\n",
    "print(\"My name is \" + name)\n",
    "print(\"My age is \", age)"
   ]
  },
  {
   "cell_type": "code",
   "execution_count": 6,
   "id": "6159e8be",
   "metadata": {
    "scrolled": true
   },
   "outputs": [
    {
     "name": "stdout",
     "output_type": "stream",
     "text": [
      "2\n",
      "34\n",
      "4\n",
      "6.8\n"
     ]
    }
   ],
   "source": [
    "#Question 2\n",
    "a = int(input())\n",
    "b = int(input())\n",
    "c = int(input())\n",
    "\n",
    "mul = a * b * c\n",
    "add = a + b + c\n",
    "\n",
    "div = mul / add\n",
    "\n",
    "print(div)\n"
   ]
  },
  {
   "cell_type": "markdown",
   "id": "af840808",
   "metadata": {},
   "source": [
    "# if elase in python\n",
    "\n",
    "### 1. **Conditional Statements**:\n",
    "- `if` statements are used for conditional execution in Python.\n",
    "- They allow you to execute a block of code only if a certain condition is true.\n",
    "\n",
    "\n",
    "### 2. **Syntax**:\n",
    "- `if` statements have the following basic syntax:\n",
    "    if condition:\n",
    "        # Code to execute if the condition is true\n",
    "\n",
    "\n",
    "### 3. **Indentation**:\n",
    "- Python relies on indentation to define blocks of code.\n",
    "- The code to be executed under the `if` statement must be indented.\n",
    "\n",
    "\n",
    "### 4. **`else` Statement**:\n",
    "- The `else` statement is used in conjunction with `if` to execute a block of code when the `if` condition is false.\n",
    "\n",
    "\n",
    "### 5. **`elif` Statement**:\n",
    "- Short for \"else if\", the `elif` statement allows checking multiple conditions sequentially after an initial `if`.\n",
    "- It is used when there are multiple conditions to be evaluated.\n",
    "\n",
    "\n",
    "### 6. **Nested `if` Statements**:\n",
    "- You can have `if` statements inside other `if` or `else` blocks, creating nested conditional structures.\n",
    "\n",
    "\n",
    "### 7. **Boolean Expressions**:\n",
    "- Conditions in `if` statements evaluate to boolean values (`True` or `False`).\n",
    "- Common operators used in conditions include `==` (equality), `!=` (not equal), `<` (less than), `>` (greater than), `<=` (less than or equal), `>=` (greater than or equal), `and`, `or`, `not`, etc.\n",
    "\n",
    "\n",
    "### 8. **Ternary Conditional Operator**:\n",
    "- Python supports a ternary conditional operator, which allows writing a concise `if-else` statement in a single line.\n",
    "\n",
    "Example:\n",
    "result = \"Pass\" if marks >= 50 else \"Fail\"\n",
    "\n",
    "\n",
    "### 9. **Indentation Errors**:\n",
    "- Improper indentation can lead to syntax errors or unexpected behavior in your code.\n",
    "\n",
    "\n",
    "### 10. **Flow Control**:\n",
    "- `if` and `else` statements control the flow of execution based on certain conditions.\n"
   ]
  },
  {
   "cell_type": "code",
   "execution_count": 20,
   "id": "13808895",
   "metadata": {},
   "outputs": [
    {
     "name": "stdout",
     "output_type": "stream",
     "text": [
      "Enter your age: 22\n",
      "You are an adult.\n",
      "Enter a number: 2\n",
      "Number is positive.\n",
      "Both conditions are satisfied.\n"
     ]
    }
   ],
   "source": [
    "# Getting user input for age\n",
    "age = int(input(\"Enter your age: \"))\n",
    "\n",
    "# Simple if-else statement\n",
    "if age >= 18:\n",
    "    print(\"You are an adult.\")\n",
    "else:\n",
    "    print(\"You are a minor.\")\n",
    "\n",
    "# Using if-elif-else for multiple conditions\n",
    "num = int(input(\"Enter a number: \"))\n",
    "\n",
    "if num > 0:\n",
    "    print(\"Number is positive.\")\n",
    "elif num < 0:\n",
    "    print(\"Number is negative.\")\n",
    "else:\n",
    "    print(\"Number is zero.\")\n",
    "\n",
    "# Nested if statements\n",
    "x = 10\n",
    "y = 5\n",
    "\n",
    "if x > 5:\n",
    "    if y > 3:\n",
    "        print(\"Both conditions are satisfied.\")\n",
    "    else:\n",
    "        print(\"Only first condition is satisfied.\")\n",
    "else:\n",
    "    print(\"First condition is not satisfied.\")\n"
   ]
  },
  {
   "cell_type": "code",
   "execution_count": 19,
   "id": "95034f5d",
   "metadata": {},
   "outputs": [
    {
     "name": "stdout",
     "output_type": "stream",
     "text": [
      "Yes\n"
     ]
    }
   ],
   "source": [
    "\n",
    "if(True):\n",
    "\tprint(\"Yes\")\n",
    "else:\n",
    "\tprint(\"No\")"
   ]
  },
  {
   "cell_type": "code",
   "execution_count": 20,
   "id": "92bcc11a",
   "metadata": {},
   "outputs": [
    {
     "name": "stdout",
     "output_type": "stream",
     "text": [
      "True\n"
     ]
    }
   ],
   "source": [
    "print(\"win\" == \"win\")"
   ]
  },
  {
   "cell_type": "code",
   "execution_count": 16,
   "id": "7a3bee81",
   "metadata": {},
   "outputs": [
    {
     "name": "stdout",
     "output_type": "stream",
     "text": [
      "False\n"
     ]
    }
   ],
   "source": [
    "print(\"win\" == \"Win\")"
   ]
  },
  {
   "cell_type": "code",
   "execution_count": 25,
   "id": "dfb7c899",
   "metadata": {},
   "outputs": [
    {
     "name": "stdout",
     "output_type": "stream",
     "text": [
      "Enter the mark : 55\n",
      "Pass\n"
     ]
    }
   ],
   "source": [
    "mark = int(input(\"Enter the mark : \"))\n",
    "\n",
    "if(mark > 35):\n",
    "\tprint(\"Pass\")\n",
    "else:\n",
    "\tprint(\"Fails\")"
   ]
  },
  {
   "cell_type": "code",
   "execution_count": 27,
   "id": "e1f7d26e",
   "metadata": {},
   "outputs": [
    {
     "name": "stdout",
     "output_type": "stream",
     "text": [
      "a and b are equal\n"
     ]
    }
   ],
   "source": [
    "a = 33\n",
    "b = 33\n",
    "if b > a:\n",
    "  print(\"b is greater than a\")\n",
    "elif a == b:\n",
    "  print(\"a and b are equal\")"
   ]
  },
  {
   "cell_type": "code",
   "execution_count": 28,
   "id": "3eec676e",
   "metadata": {},
   "outputs": [],
   "source": [
    "#Short Hand If ... Else"
   ]
  },
  {
   "cell_type": "code",
   "execution_count": 30,
   "id": "3878ad95",
   "metadata": {},
   "outputs": [
    {
     "name": "stdout",
     "output_type": "stream",
     "text": [
      "B\n"
     ]
    }
   ],
   "source": [
    "a = 2\n",
    "b = 330\n",
    "print(\"A\") if a > b else print(\"B\")"
   ]
  },
  {
   "cell_type": "code",
   "execution_count": 33,
   "id": "db969d4e",
   "metadata": {},
   "outputs": [
    {
     "name": "stdout",
     "output_type": "stream",
     "text": [
      "1\n"
     ]
    }
   ],
   "source": [
    "a = 10\n",
    "print(a % 3)"
   ]
  },
  {
   "cell_type": "markdown",
   "id": "612ffa9f",
   "metadata": {},
   "source": [
    "# For loop in python\n",
    "\n",
    "### 1. **Iterating Over Sequences**:\n",
    "- The `for` loop in Python is primarily used for iterating over sequences like lists, tuples, strings, and dictionaries.\n",
    "\n",
    "\n",
    "### 2. **Syntax**:\n",
    "- The basic syntax of a `for` loop in Python:\n",
    "    for item in sequence:\n",
    "        # Code block to execute for each item in the sequence\n",
    "\n",
    "\n",
    "### 3. **Iterating Through Sequences**:\n",
    "- The loop iterates through each item in the sequence and executes the code block for each item.\n",
    "\n",
    "\n",
    "### 4. **`range()` Function**:\n",
    "- The `range()` function generates a sequence of numbers that can be used in `for` loops.\n",
    "- It's commonly used to iterate a specific number of times.\n",
    "\n",
    "\n",
    "### 5. **`enumerate()` Function**:\n",
    "- The `enumerate()` function is used to loop over a sequence while keeping track of the index.\n",
    "\n",
    "\n",
    "### 6. **Loop Control Statements**:\n",
    "- `break`: Terminates the loop prematurely if a certain condition is met.\n",
    "- `continue`: Skips the current iteration and moves to the next iteration of the loop.\n",
    "\n",
    "\n",
    "### 7. **Nested `for` Loops**:\n",
    "- You can have one or more `for` loops inside another `for` loop, creating nested iterations.\n",
    "\n",
    "\n",
    "### 8. **Iteration Over Dictionary**:\n",
    "- `for` loops can iterate over keys, values, or key-value pairs in a dictionary using methods like `keys()`, `values()`, or `items()`.\n",
    "\n",
    "\n",
    "### 9. **Iterable Objects**:\n",
    "- Any object that can be iterated over is considered iterable and can be used with a `for` loop.\n",
    "\n",
    "\n",
    "### 10. **`else` Clause with `for` Loop**:\n",
    "- Python allows an `else` block after a `for` loop. This block executes after the loop completes without encountering a `break` statement.\n",
    "\n",
    "\n",
    "Example:\n",
    "### Iterating over a list\n",
    "fruits = [\"apple\", \"banana\", \"cherry\"]\n",
    "for fruit in fruits:\n",
    "    print(fruit)\n",
    "    \n",
    "\n",
    "### Using range() in for loop\n",
    "for i in range(5):\n",
    "    print(i)\n",
    "    \n",
    "\n",
    "### Using enumerate() in for loop\n",
    "for index, value in enumerate(fruits):\n",
    "    print(f\"Index: {index}, Value: {value}\")\n",
    "\n",
    "\n",
    "### Nested for loops\n",
    "for i in range(3):\n",
    "    for j in range(2):\n",
    "        print(f\"({i}, {j})\")"
   ]
  },
  {
   "cell_type": "code",
   "execution_count": 35,
   "id": "85083d1c",
   "metadata": {},
   "outputs": [
    {
     "name": "stdout",
     "output_type": "stream",
     "text": [
      "a\n",
      "p\n",
      "p\n",
      "l\n",
      "e\n"
     ]
    }
   ],
   "source": [
    "for i in \"apple\":\n",
    "    print(i)"
   ]
  },
  {
   "cell_type": "code",
   "execution_count": 21,
   "id": "32a985a1",
   "metadata": {},
   "outputs": [
    {
     "name": "stdout",
     "output_type": "stream",
     "text": [
      "Fruit: apple\n",
      "Fruit: banana\n",
      "Fruit: cherry\n",
      "Number: 0\n",
      "Number: 1\n",
      "Number: 2\n",
      "Number: 3\n",
      "Number: 4\n",
      "Index: 0 Value: apple\n",
      "Index: 1 Value: banana\n",
      "Index: 2 Value: cherry\n",
      "Coordinates: 0 0\n",
      "Coordinates: 0 1\n",
      "Coordinates: 1 0\n",
      "Coordinates: 1 1\n",
      "Coordinates: 2 0\n",
      "Coordinates: 2 1\n",
      "Keys:\n",
      "name\n",
      "age\n",
      "city\n",
      "\n",
      "Values:\n",
      "Alice\n",
      "30\n",
      "New York\n",
      "\n",
      "Key-Value Pairs:\n",
      "name : Alice\n",
      "age : 30\n",
      "city : New York\n"
     ]
    }
   ],
   "source": [
    "# Iterating over a list\n",
    "fruits = [\"apple\", \"banana\", \"cherry\"]\n",
    "for fruit in fruits:\n",
    "    print(\"Fruit:\", fruit)\n",
    "\n",
    "# Using range() in for loop\n",
    "for i in range(5):\n",
    "    print(\"Number:\", i)\n",
    "\n",
    "# Using enumerate() in for loop\n",
    "for index, value in enumerate(fruits):\n",
    "    print(\"Index:\", index, \"Value:\", value)\n",
    "\n",
    "# Nested for loops\n",
    "for i in range(3):\n",
    "    for j in range(2):\n",
    "        print(\"Coordinates:\", i, j)\n",
    "\n",
    "# Iterating over dictionary keys, values, and items\n",
    "person = {\n",
    "    \"name\": \"Alice\",\n",
    "    \"age\": 30,\n",
    "    \"city\": \"New York\"\n",
    "}\n",
    "\n",
    "# Iterating over keys\n",
    "print(\"Keys:\")\n",
    "for key in person:\n",
    "    print(key)\n",
    "\n",
    "# Iterating over values\n",
    "print(\"\\nValues:\")\n",
    "for value in person.values():\n",
    "    print(value)\n",
    "\n",
    "# Iterating over key-value pairs\n",
    "print(\"\\nKey-Value Pairs:\")\n",
    "for key, value in person.items():\n",
    "    print(key, \":\", value)\n"
   ]
  },
  {
   "cell_type": "code",
   "execution_count": 38,
   "id": "aa41ab43",
   "metadata": {},
   "outputs": [
    {
     "name": "stdout",
     "output_type": "stream",
     "text": [
      "apple\n",
      "banana\n",
      "cherry\n"
     ]
    }
   ],
   "source": [
    "fruits = [\"apple\", \"banana\", \"cherry\"]\n",
    "for x in fruits:\n",
    "  print(x)"
   ]
  },
  {
   "cell_type": "code",
   "execution_count": null,
   "id": "0224e68e",
   "metadata": {},
   "outputs": [],
   "source": [
    "The range() Function\n",
    "To loop through a set of code a specified number of times, we can use the range() function,\n",
    "The range() function returns a sequence of numbers, starting from 0 by default, and increments by 1 (by default), and ends at a specified number."
   ]
  },
  {
   "cell_type": "code",
   "execution_count": 40,
   "id": "cfc8e64e",
   "metadata": {},
   "outputs": [
    {
     "name": "stdout",
     "output_type": "stream",
     "text": [
      "0\n",
      "1\n",
      "2\n",
      "3\n",
      "4\n"
     ]
    }
   ],
   "source": [
    "for i in range(5):\n",
    "    print(i)"
   ]
  },
  {
   "cell_type": "code",
   "execution_count": 49,
   "id": "07866453",
   "metadata": {},
   "outputs": [
    {
     "name": "stdout",
     "output_type": "stream",
     "text": [
      "0\n",
      "2\n",
      "4\n",
      "6\n",
      "8\n",
      "10\n"
     ]
    }
   ],
   "source": [
    "for i in range(0, 11, 2):\n",
    "    print(i)"
   ]
  },
  {
   "cell_type": "code",
   "execution_count": 55,
   "id": "be1c7e32",
   "metadata": {},
   "outputs": [
    {
     "name": "stdout",
     "output_type": "stream",
     "text": [
      "1 x 2 = 2\n",
      "2 x 2 = 4\n",
      "3 x 2 = 6\n",
      "4 x 2 = 8\n",
      "5 x 2 = 10\n",
      "6 x 2 = 12\n",
      "7 x 2 = 14\n",
      "8 x 2 = 16\n",
      "9 x 2 = 18\n",
      "10 x 2 = 20\n"
     ]
    }
   ],
   "source": [
    "#Print multiplication table\n",
    "\n",
    "for i in range(1, 11):\n",
    "    print(i , \"x 2\", \"=\", i * 2)"
   ]
  },
  {
   "cell_type": "code",
   "execution_count": 56,
   "id": "c7ce21a6",
   "metadata": {},
   "outputs": [],
   "source": [
    "#Excercises"
   ]
  },
  {
   "cell_type": "code",
   "execution_count": 63,
   "id": "0cb0fcbb",
   "metadata": {},
   "outputs": [
    {
     "name": "stdout",
     "output_type": "stream",
     "text": [
      "5\n",
      "5\n"
     ]
    }
   ],
   "source": [
    "sum = 0\n",
    "\n",
    "for i in range(2, 11, 2):\n",
    "    sum = sum + 1\n",
    "print(sum)\n",
    "\n",
    "sum = 0\n",
    "\n",
    "for i in range(1, 11):\n",
    "    if i % 2 == 0:\n",
    "        sum = sum + 1\n",
    "print(sum)"
   ]
  },
  {
   "cell_type": "code",
   "execution_count": null,
   "id": "6dad2fff",
   "metadata": {},
   "outputs": [],
   "source": [
    "numArray = []\n",
    "sum = 0\n",
    "\n",
    "for i in range(5):\n",
    "    num = int(input())\n",
    "    numArray.append(num)\n",
    "    \n",
    "    sum = sum + numArray[i]\n",
    "print(\"Total:\", sum)for i in range(5):\n",
    "    print(i)"
   ]
  },
  {
   "cell_type": "markdown",
   "id": "6b5d1ae5",
   "metadata": {},
   "source": [
    "# Python While Loops\n",
    "\n",
    "### 1. **Repetitive Execution**:\n",
    "- `while` loops are used for executing a block of code repeatedly as long as a specified condition is true.\n",
    "\n",
    "\n",
    "### 2. **Syntax**:\n",
    "- The basic syntax of a `while` loop in Python:\n",
    "    while condition:\n",
    "        # Code block to execute as long as the condition is true\n",
    "\n",
    "\n",
    "### 3. **Loop Continuation**:\n",
    "- The loop continues to execute as long as the condition remains true.\n",
    "- It checks the condition before each iteration, and if the condition becomes false, the loop stops.\n",
    "\n",
    "\n",
    "### 4. **Infinite Loops**:\n",
    "- If the condition in a `while` loop always evaluates to `True`, it results in an infinite loop.\n",
    "\n",
    "\n",
    "### 5. **Loop Control Statements**:\n",
    "- `break`: Terminates the loop prematurely based on a certain condition.\n",
    "- `continue`: Skips the current iteration and continues to the next iteration of the loop.\n",
    "\n",
    "\n",
    "### 6. **Initializing and Updating Variables**:\n",
    "- Usually, a variable is initialized before the `while` loop and updated within the loop to control the loop's behavior.\n",
    "\n",
    "\n",
    "### 7. **Nested `while` Loops**:\n",
    "- Similar to `for` loops, you can have one or more `while` loops inside another `while` loop, creating nested iterations.\n",
    "\n",
    "\n",
    "### 8. **Looping Through User Input**:\n",
    "- `while` loops are commonly used when expecting user input and validating against certain conditions.\n",
    "\n",
    "\n",
    "### 9. **`else` Clause with `while` Loop**:\n",
    "- Python allows an `else` block after a `while` loop. This block executes when the loop condition becomes false.\n",
    "\n",
    "\n",
    "### 10. **Precautions with Infinite Loops**:\n",
    "- When using `while` loops, ensure there's a mechanism to make the condition eventually become false to avoid infinite loops.\n",
    "\n",
    "\n",
    "Example:\n",
    "### Simple while loop\n",
    "counter = 0\n",
    "while counter < 5:\n",
    "    print(\"Counter:\", counter)\n",
    "    counter += 1\n",
    "\n",
    "\n",
    "### Using break to exit loop\n",
    "num = 1\n",
    "while True:\n",
    "    print(\"Number:\", num)\n",
    "    if num == 5:\n",
    "        break\n",
    "    num += 1\n",
    "    \n",
    "\n",
    "### Using continue to skip iterations\n",
    "i = 0\n",
    "while i < 5:\n",
    "    i += 1\n",
    "    if i == 3:\n",
    "        continue\n",
    "    print(\"Value of i:\", i)\n",
    "\n"
   ]
  },
  {
   "cell_type": "code",
   "execution_count": 78,
   "id": "b94a9708",
   "metadata": {},
   "outputs": [
    {
     "name": "stdout",
     "output_type": "stream",
     "text": [
      "0\n",
      "1\n",
      "2\n",
      "3\n",
      "4\n"
     ]
    }
   ],
   "source": [
    "i = 0\n",
    "\n",
    "while i < 5:\n",
    "    print(i)\n",
    "    i = i + 1"
   ]
  },
  {
   "cell_type": "code",
   "execution_count": 80,
   "id": "92ba6234",
   "metadata": {},
   "outputs": [
    {
     "name": "stdout",
     "output_type": "stream",
     "text": [
      "1\n",
      "2\n",
      "3\n",
      "4\n",
      "5\n"
     ]
    }
   ],
   "source": [
    "i = 1\n",
    "while i < 6:\n",
    "  print(i)\n",
    "  i += 1 #Assignment operator"
   ]
  },
  {
   "cell_type": "code",
   "execution_count": 22,
   "id": "f068d8fc",
   "metadata": {},
   "outputs": [
    {
     "name": "stdout",
     "output_type": "stream",
     "text": [
      "Counter: 0\n",
      "Counter: 1\n",
      "Counter: 2\n",
      "Counter: 3\n",
      "Counter: 4\n",
      "Number: 1\n",
      "Number: 2\n",
      "Number: 3\n",
      "Number: 4\n",
      "Number: 5\n",
      "Value of i: 1\n",
      "Value of i: 2\n",
      "Value of i: 4\n",
      "Value of i: 5\n"
     ]
    }
   ],
   "source": [
    "# Simple while loop\n",
    "counter = 0\n",
    "while counter < 5:\n",
    "    print(\"Counter:\", counter)\n",
    "    counter += 1\n",
    "\n",
    "# Using break to exit loop\n",
    "num = 1\n",
    "while True:\n",
    "    print(\"Number:\", num)\n",
    "    if num == 5:\n",
    "        break\n",
    "    num += 1\n",
    "\n",
    "# Using continue to skip iterations\n",
    "i = 0\n",
    "while i < 5:\n",
    "    i += 1\n",
    "    if i == 3:\n",
    "        continue\n",
    "    print(\"Value of i:\", i)\n"
   ]
  },
  {
   "cell_type": "markdown",
   "id": "243c7c6c",
   "metadata": {},
   "source": [
    "# Python Collections\n",
    "\n",
    "### 1. **List**:\n",
    "- **Ordered**: Lists maintain the order of elements as they are inserted.\n",
    "- **Mutable**: Elements in a list can be added, removed, or modified after creation.\n",
    "- **Allows Duplicates**: A list can contain duplicate elements.\n",
    "- **Creation**: Lists are created using square brackets `[]`.\n",
    "   \n",
    "    my_list = [1, 2, 3, 'apple']\n",
    "    \n",
    "\n",
    "\n",
    "### 2. **Tuple**:\n",
    "- **Ordered**: Tuples, like lists, maintain order.\n",
    "- **Immutable**: Once created, elements in a tuple cannot be changed.\n",
    "- **Allows Duplicates**: Similar to lists, tuples can contain duplicate elements.\n",
    "- **Creation**: Tuples are created using parentheses `()`.\n",
    "\n",
    "    my_tuple = (1, 2, 'apple')\n",
    "\n",
    "\n",
    "\n",
    "### 3. **Set**:\n",
    "- **Unordered**: Sets don’t maintain order.\n",
    "- **Unique Elements**: Sets contain only unique elements; duplicates are automatically removed.\n",
    "- **Mutable (for the elements)**: Elements can be added or removed after creation, but the set itself (as a whole) is immutable.\n",
    "- **Creation**: Sets are created using curly braces `{}` or the `set()` function.\n",
    "\n",
    "    my_set = {1, 2, 3}\n",
    "\n",
    "\n",
    "\n",
    "### 4. **Dictionary**:\n",
    "- **Key-Value Pairs**: Dictionaries store data in key-value pairs.\n",
    "- **Unordered**: Prior to Python 3.7, dictionaries didn't maintain the order of elements, but in modern Python versions, they maintain insertion order.\n",
    "- **Keys are Unique**: Each key in a dictionary must be unique.\n",
    "- **Mutable**: Elements (key-value pairs) can be added, removed, or modified after creation.\n",
    "- **Creation**: Dictionaries are created using curly braces `{}` with key-value pairs separated by colons `:`.\n",
    "\n",
    "    my_dict = {'name': 'Alice', 'age': 30}\n",
    "   \n",
    "\n"
   ]
  },
  {
   "cell_type": "markdown",
   "id": "70059206",
   "metadata": {},
   "source": [
    "### 1. **List Methods**:\n",
    "\n",
    "- **Appending and Extending**:\n",
    "    - `append()`: Adds an element to the end of the list.\n",
    "\n",
    "        my_list.append(4)\n",
    "\n",
    "    - `extend()`: Appends elements from another list to the end of the list.\n",
    "\n",
    "        another_list = [5, 6]\n",
    "        my_list.extend(another_list)\n",
    "\n",
    "\n",
    "- **Inserting and Deleting**:\n",
    "    - `insert()`: Inserts an element at a specified index.\n",
    "\n",
    "        my_list.insert(1, 'new_element')\n",
    "        \n",
    "    - `remove()`: Removes the first occurrence of a specified value.\n",
    "     \n",
    "        my_list.remove('new_element')\n",
    "    \n",
    "    - `pop()`: Removes and returns an element at a specified index.\n",
    "      \n",
    "        popped_element = my_list.pop(2)\n",
    "\n",
    "\n",
    "- **Indexing and Slicing**:\n",
    "    - Access elements by index: `my_list[index]`\n",
    "    - Slicing: `my_list[start:end:step]`\n",
    "\n",
    "- **Other Operations**:\n",
    "    - `index()`: Returns the index of the first occurrence of a value.\n",
    "    - `count()`: Returns the number of occurrences of a value.\n",
    "    - `sort()`: Sorts the list.\n",
    "    - `reverse()`: Reverses the order of elements in the list.\n",
    "\n",
    "\n",
    "### 2. **Tuple Operations**:\n",
    "\n",
    "- **Accessing Elements**: Similar to lists, accessed by index.\n",
    "- **Immutable**: Cannot be modified after creation.\n",
    "\n",
    "\n",
    "### 3. **Set Methods**:\n",
    "\n",
    "- **Adding and Removing**:\n",
    "    - `add()`: Adds an element to the set.\n",
    "    \n",
    "        my_set.add(4)\n",
    "  \n",
    "    - `remove()`: Removes a specified element from the set. Raises an error if the element doesn't exist.\n",
    "\n",
    "        my_set.remove(4)\n",
    "\n",
    "    - `discard()`: Removes a specified element from the set if it exists; otherwise, does nothing.\n",
    "\n",
    "        my_set.discard(4)\n",
    "\n",
    "\n",
    "- **Operations**:\n",
    "    - `union()`: Returns the union of two sets.\n",
    "    - `intersection()`: Returns the intersection of two sets.\n",
    "    - `difference()`: Returns the difference between two sets.\n",
    "    - `update()`: Updates the set with the union of itself and others.\n",
    "\n",
    "\n",
    "### 4. **Dictionary Methods**:\n",
    "\n",
    "- **Adding, Updating, and Deleting**:\n",
    "    - `update()`: Adds key-value pairs from another dictionary or iterable.\n",
    "\n",
    "        my_dict.update({'new_key': 'new_value'})\n",
    "\n",
    "    - `pop()`: Removes and returns the value for a specified key.\n",
    "\n",
    "        popped_value = my_dict.pop('new_key')\n",
    "\n",
    "    - `del`: Deletes an item by key.\n",
    "\n",
    "        del my_dict['new_key']\n",
    "\n",
    "- **Accessing Values**:\n",
    "    - Access values by key: `my_dict[key]`\n",
    "    - `keys()`: Returns a view of all keys in the dictionary.\n",
    "    - `values()`: Returns a view of all values in the dictionary.\n",
    "    - `items()`: Returns a view of all key-value pairs as tuples."
   ]
  },
  {
   "cell_type": "code",
   "execution_count": null,
   "id": "81910f54",
   "metadata": {},
   "outputs": [],
   "source": [
    "#List"
   ]
  },
  {
   "cell_type": "code",
   "execution_count": 99,
   "id": "6929d466",
   "metadata": {},
   "outputs": [
    {
     "name": "stdout",
     "output_type": "stream",
     "text": [
      "Print list :  [1, 2, 3, 4, 5]\n",
      "Print list element :  3\n",
      "Remove last elemnt :  5\n",
      "Print list :  [1, 2, 3, 4]\n",
      "Remove first elemnt :  1\n",
      "Print list :  [2, 3, 4]\n",
      "Print list :  [11, 2, 3, 4]\n"
     ]
    }
   ],
   "source": [
    "a = [1, 2, 3, 4, 5]\n",
    "\n",
    "print(\"Print list : \", a)\n",
    "print(\"Print list element : \", a[2])\n",
    "print(\"Remove last elemnt : \", a.pop())\n",
    "print(\"Print list : \", a)\n",
    "print(\"Remove first elemnt : \", a.pop(0))\n",
    "print(\"Print list : \", a)\n",
    "a.insert(0, 11)\n",
    "print(\"Print list : \", a)"
   ]
  },
  {
   "cell_type": "code",
   "execution_count": 23,
   "id": "c246e291",
   "metadata": {},
   "outputs": [
    {
     "name": "stdout",
     "output_type": "stream",
     "text": [
      "Appended: [1, 2, 3, 4, 5]\n",
      "Extended: [1, 2, 3, 4, 5, 6, 7]\n",
      "Inserted: [1, 2, 'inserted', 3, 4, 5, 6, 7]\n",
      "Removed: [1, 2, 3, 4, 5, 6, 7]\n",
      "Popped: 4 List: [1, 2, 3, 5, 6, 7]\n",
      "First element: 1\n",
      "Sliced: [2, 3, 5]\n",
      "Index of 3: 2\n",
      "Count of 4: 0\n",
      "Sorted: [1, 2, 3, 5, 6, 7]\n",
      "Reversed: [7, 6, 5, 3, 2, 1]\n"
     ]
    }
   ],
   "source": [
    "# List creation and basic operations\n",
    "my_list = [1, 2, 3, 4]\n",
    "\n",
    "# Appending and extending a list\n",
    "my_list.append(5)\n",
    "print(\"Appended:\", my_list)\n",
    "\n",
    "extension = [6, 7]\n",
    "my_list.extend(extension)\n",
    "print(\"Extended:\", my_list)\n",
    "\n",
    "# Inserting and deleting elements\n",
    "my_list.insert(2, 'inserted')\n",
    "print(\"Inserted:\", my_list)\n",
    "\n",
    "my_list.remove('inserted')\n",
    "print(\"Removed:\", my_list)\n",
    "\n",
    "popped_value = my_list.pop(3)\n",
    "print(\"Popped:\", popped_value, \"List:\", my_list)\n",
    "\n",
    "# Indexing and slicing\n",
    "print(\"First element:\", my_list[0])\n",
    "print(\"Sliced:\", my_list[1:4])\n",
    "\n",
    "# Other list operations\n",
    "print(\"Index of 3:\", my_list.index(3))\n",
    "print(\"Count of 4:\", my_list.count(4))\n",
    "\n",
    "my_list.sort()\n",
    "print(\"Sorted:\", my_list)\n",
    "\n",
    "my_list.reverse()\n",
    "print(\"Reversed:\", my_list)\n"
   ]
  },
  {
   "cell_type": "code",
   "execution_count": null,
   "id": "6bb76bae",
   "metadata": {},
   "outputs": [],
   "source": [
    "#Python Tuples"
   ]
  },
  {
   "cell_type": "code",
   "execution_count": 106,
   "id": "fc058f1e",
   "metadata": {},
   "outputs": [
    {
     "name": "stdout",
     "output_type": "stream",
     "text": [
      "('apple', 'banana', 'cherry')\n",
      "('apple', 'kiwi', 'cherry')\n"
     ]
    }
   ],
   "source": [
    "mytuple = ('apple', \"banana\", \"cherry\")\n",
    "print(mytuple)\n",
    "\n",
    "\n",
    "x = (\"apple\", \"banana\", \"cherry\")\n",
    "y = list(x)\n",
    "y[1] = \"kiwi\"\n",
    "x = tuple(y)\n",
    "\n",
    "print(x)\n",
    "\n"
   ]
  },
  {
   "cell_type": "code",
   "execution_count": 107,
   "id": "d69d5a47",
   "metadata": {},
   "outputs": [],
   "source": [
    "#Python Sets"
   ]
  },
  {
   "cell_type": "code",
   "execution_count": 109,
   "id": "1214c4eb",
   "metadata": {},
   "outputs": [
    {
     "name": "stdout",
     "output_type": "stream",
     "text": [
      "{'apple', 'banana', 'cherry'}\n"
     ]
    }
   ],
   "source": [
    "thisset = {\"apple\", \"banana\", \"cherry\", \"apple\"}\n",
    "\n",
    "print(thisset)\n"
   ]
  },
  {
   "cell_type": "code",
   "execution_count": 26,
   "id": "dd89727e",
   "metadata": {},
   "outputs": [
    {
     "name": "stdout",
     "output_type": "stream",
     "text": [
      "First element: 1\n",
      "Sliced elements: (2, 3)\n",
      "Unpacked values: 1 2 3 apple\n",
      "Concatenated tuple: (1, 2, 3, 'apple', 4, 5)\n",
      "Repeated tuple: (1, 2, 3, 'apple', 1, 2, 3, 'apple')\n",
      "Length of tuple: 4\n"
     ]
    }
   ],
   "source": [
    "# Tuple creation\n",
    "my_tuple = (1, 2, 3, 'apple')\n",
    "\n",
    "# Accessing elements by index\n",
    "print(\"First element:\", my_tuple[0])\n",
    "\n",
    "# Slicing\n",
    "print(\"Sliced elements:\", my_tuple[1:3])\n",
    "\n",
    "# Tuple unpacking\n",
    "a, b, c, d = my_tuple\n",
    "print(\"Unpacked values:\", a, b, c, d)\n",
    "\n",
    "# Concatenating tuples\n",
    "another_tuple = (4, 5)\n",
    "concatenated_tuple = my_tuple + another_tuple\n",
    "print(\"Concatenated tuple:\", concatenated_tuple)\n",
    "\n",
    "# Tuple repetition\n",
    "repeated_tuple = my_tuple * 2\n",
    "print(\"Repeated tuple:\", repeated_tuple)\n",
    "\n",
    "# Length of tuple\n",
    "print(\"Length of tuple:\", len(my_tuple))\n"
   ]
  },
  {
   "cell_type": "code",
   "execution_count": 24,
   "id": "0b8e12bb",
   "metadata": {},
   "outputs": [
    {
     "name": "stdout",
     "output_type": "stream",
     "text": [
      "Added: {1, 2, 3, 4, 5}\n",
      "Discarded: {1, 2, 4, 5}\n",
      "Union: {1, 2, 3, 4, 5, 6}\n",
      "Intersection: {4, 5}\n",
      "Difference: {1, 2}\n"
     ]
    }
   ],
   "source": [
    "# Set creation and basic operations\n",
    "my_set = {1, 2, 3, 4}\n",
    "\n",
    "# Adding and removing elements\n",
    "my_set.add(5)\n",
    "print(\"Added:\", my_set)\n",
    "\n",
    "my_set.discard(3)\n",
    "print(\"Discarded:\", my_set)\n",
    "\n",
    "# Set operations\n",
    "another_set = {3, 4, 5, 6}\n",
    "\n",
    "union_set = my_set.union(another_set)\n",
    "print(\"Union:\", union_set)\n",
    "\n",
    "intersection_set = my_set.intersection(another_set)\n",
    "print(\"Intersection:\", intersection_set)\n",
    "\n",
    "difference_set = my_set.difference(another_set)\n",
    "print(\"Difference:\", difference_set)\n"
   ]
  },
  {
   "cell_type": "code",
   "execution_count": 110,
   "id": "11296cb2",
   "metadata": {},
   "outputs": [],
   "source": [
    "#Python Dictionaries"
   ]
  },
  {
   "cell_type": "code",
   "execution_count": 112,
   "id": "69d29b2c",
   "metadata": {},
   "outputs": [
    {
     "name": "stdout",
     "output_type": "stream",
     "text": [
      "{'brand': 'Ford', 'model': 'Mustang', 'year': 1964}\n"
     ]
    }
   ],
   "source": [
    "thisdict = {\n",
    "  \"brand\": \"Ford\",\n",
    "  \"model\": \"Mustang\",\n",
    "  \"year\": 1964\n",
    "}\n",
    "print(thisdict)\n"
   ]
  },
  {
   "cell_type": "code",
   "execution_count": 25,
   "id": "f4cbf46d",
   "metadata": {},
   "outputs": [
    {
     "name": "stdout",
     "output_type": "stream",
     "text": [
      "Updated: {'name': 'Alice', 'age': 30, 'city': 'New York'}\n",
      "Age updated: {'name': 'Alice', 'age': 31, 'city': 'New York'}\n",
      "Popped age: 31 Dict: {'name': 'Alice', 'city': 'New York'}\n",
      "Value for 'name': Alice\n",
      "Keys: dict_keys(['name', 'city'])\n",
      "Values: dict_values(['Alice', 'New York'])\n"
     ]
    }
   ],
   "source": [
    "# Dictionary creation and basic operations\n",
    "my_dict = {'name': 'Alice', 'age': 30}\n",
    "\n",
    "# Adding, updating, and deleting items\n",
    "my_dict['city'] = 'New York'\n",
    "print(\"Updated:\", my_dict)\n",
    "\n",
    "my_dict.update({'age': 31})\n",
    "print(\"Age updated:\", my_dict)\n",
    "\n",
    "popped_value = my_dict.pop('age')\n",
    "print(\"Popped age:\", popped_value, \"Dict:\", my_dict)\n",
    "\n",
    "# Accessing values and keys\n",
    "print(\"Value for 'name':\", my_dict['name'])\n",
    "print(\"Keys:\", my_dict.keys())\n",
    "print(\"Values:\", my_dict.values())\n"
   ]
  },
  {
   "cell_type": "markdown",
   "id": "b3462409",
   "metadata": {},
   "source": [
    "# Functions in Python\n",
    "\n",
    "### 1. **Definition**:\n",
    "- Functions are blocks of reusable code designed to perform a specific task.\n",
    "- They enhance code readability, reusability, and modularity.\n",
    "\n",
    "\n",
    "### 2. **Syntax**:\n",
    "- A basic function in Python:\n",
    "\n",
    "    def function_name(parameters):\n",
    "        # Code block\n",
    "        return value  # Optional, returns a value\n",
    "\n",
    "\n",
    "\n",
    "### 3. **Parameters and Arguments**:\n",
    "- **Parameters**: Variables listed in a function's definition.\n",
    "- **Arguments**: Values passed into a function when it is called.\n",
    "\n",
    "\n",
    "### 4. **Return Statement**:\n",
    "- `return`: Ends the function's execution and optionally returns a value to the caller.\n",
    "- If no `return` statement is specified, the function returns `None` by default.\n",
    "\n",
    "\n",
    "### 5. **Scope**:\n",
    "- Functions create a local scope, meaning variables defined within a function are not accessible outside it (unless specified otherwise).\n",
    "\n",
    "\n",
    "### 6. **Function Calling**:\n",
    "- Functions are called by using their name followed by parentheses `()` containing arguments (if any).\n",
    "- Example:\n",
    "\n",
    "    result = function_name(arg1, arg2)\n",
    "\n",
    "\n",
    "### 7. **Types of Functions**:\n",
    "- **Built-in Functions**: Predefined functions available in Python (e.g., `print()`, `len()`, `max()`).\n",
    "- **User-defined Functions**: Functions defined by users to perform specific tasks.\n",
    "\n",
    "\n",
    "### 8. **Default Arguments**:\n",
    "- Parameters in a function can have default values.\n",
    "- When an argument isn't passed for a parameter with a default value, the default value is used.\n",
    "\n",
    "\n",
    "### 9. **Variable-Length Arguments**:\n",
    "- Functions can accept a variable number of arguments using `*args` and `**kwargs`.\n",
    "- `*args` collects positional arguments into a tuple.\n",
    "- `**kwargs` collects keyword arguments into a dictionary.\n",
    "\n",
    "\n",
    "### 10. **Recursion**:\n",
    "- Functions can call themselves, enabling a technique known as recursion.\n",
    "- Recursion is useful for solving problems that can be broken down into smaller, similar sub-problems.\n"
   ]
  },
  {
   "cell_type": "code",
   "execution_count": 27,
   "id": "f2d68fcd",
   "metadata": {},
   "outputs": [
    {
     "name": "stdout",
     "output_type": "stream",
     "text": [
      "Hello, there!\n",
      "Sum: 8\n",
      "Hello, Alice!\n",
      "Hello, Guest!\n",
      "Total: 100\n",
      "Factorial of 5: 120\n"
     ]
    }
   ],
   "source": [
    "# Simple function without arguments and return value\n",
    "def greet():\n",
    "    print(\"Hello, there!\")\n",
    "\n",
    "# Function with arguments and return value\n",
    "def add_numbers(a, b):\n",
    "    return a + b\n",
    "\n",
    "# Function with default argument\n",
    "def greet_person(name=\"Guest\"):\n",
    "    print(f\"Hello, {name}!\")\n",
    "\n",
    "# Function with variable-length arguments\n",
    "def calculate_total(*args):\n",
    "    total = sum(args)\n",
    "    return total\n",
    "\n",
    "# Recursive function to calculate factorial\n",
    "def factorial(n):\n",
    "    if n == 0 or n == 1:\n",
    "        return 1\n",
    "    else:\n",
    "        return n * factorial(n - 1)\n",
    "\n",
    "# Calling functions\n",
    "greet()  # Output: Hello, there!\n",
    "\n",
    "result = add_numbers(5, 3)\n",
    "print(\"Sum:\", result)  # Output: Sum: 8\n",
    "\n",
    "greet_person(\"Alice\")  # Output: Hello, Alice!\n",
    "greet_person()  # Output: Hello, Guest!\n",
    "\n",
    "total = calculate_total(10, 20, 30, 40)\n",
    "print(\"Total:\", total)  # Output: Total: 100\n",
    "\n",
    "fact = factorial(5)\n",
    "print(\"Factorial of 5:\", fact)  # Output: Factorial of 5: 120\n"
   ]
  },
  {
   "cell_type": "code",
   "execution_count": 117,
   "id": "13629d5f",
   "metadata": {
    "scrolled": true
   },
   "outputs": [
    {
     "name": "stdout",
     "output_type": "stream",
     "text": [
      "Hello world\n"
     ]
    }
   ],
   "source": [
    "def helloWorld():\n",
    "    print(\"Hello world\")\n",
    "    \n",
    "helloWorld()"
   ]
  },
  {
   "cell_type": "code",
   "execution_count": 118,
   "id": "f70596f3",
   "metadata": {
    "scrolled": true
   },
   "outputs": [
    {
     "name": "stdout",
     "output_type": "stream",
     "text": [
      "Emil Refsnes\n",
      "Tobias Refsnes\n",
      "Linus Refsnes\n"
     ]
    }
   ],
   "source": [
    "def my_function(fname):\n",
    "  print(fname + \" Refsnes\")\n",
    "\n",
    "my_function(\"Emil\")\n",
    "my_function(\"Tobias\")\n",
    "my_function(\"Linus\")"
   ]
  },
  {
   "cell_type": "code",
   "execution_count": 120,
   "id": "d18d69fc",
   "metadata": {},
   "outputs": [
    {
     "name": "stdout",
     "output_type": "stream",
     "text": [
      "The youngest child is Linus\n"
     ]
    }
   ],
   "source": [
    "def my_function(*kids):\n",
    "  print(\"The youngest child is \" + kids[2])\n",
    "\n",
    "my_function(\"Emil\", \"Tobias\", \"Linus\")"
   ]
  },
  {
   "cell_type": "code",
   "execution_count": 129,
   "id": "b3536804",
   "metadata": {
    "scrolled": true
   },
   "outputs": [
    {
     "name": "stdout",
     "output_type": "stream",
     "text": [
      "3\n",
      "Vithu\n"
     ]
    }
   ],
   "source": [
    "#Return Keyword in Python\n",
    "\n",
    "def add():\n",
    "    return 1 + 2\n",
    "\n",
    "result = add()\n",
    "\n",
    "print(result)\n",
    "\n",
    "def name():\n",
    "    return \"Vithu\"\n",
    "\n",
    "name()\n",
    "\n",
    "getName = name()\n",
    "\n",
    "print(getName)"
   ]
  },
  {
   "cell_type": "markdown",
   "id": "02b5c9f1",
   "metadata": {},
   "source": [
    "# Classes and Objects\n",
    "\n",
    "\n",
    "### 1. **Classes**:\n",
    "- A class is a blueprint for creating objects (instances).\n",
    "- It defines the properties (attributes) and behaviors (methods) that objects of the class will have.\n",
    "- Classes encapsulate data and functionality into a single unit.\n",
    "\n",
    "\n",
    "### 2. **Objects (Instances)**:\n",
    "- Objects are instances of classes.\n",
    "- Each object created from a class has its own unique set of attributes and can perform actions (methods) defined in the class.\n",
    "\n",
    "\n",
    "### 3. **Attributes**:\n",
    "- Attributes are variables that belong to a class or an object.\n",
    "- They represent the state of the object and can be data variables or class variables.\n",
    "\n",
    "\n",
    "### 4. **Methods**:\n",
    "- Methods are functions defined within a class.\n",
    "- They define the behavior or actions that objects of the class can perform.\n",
    "- Methods can interact with attributes of the class.\n",
    "\n",
    "\n",
    "### 5. **Constructor (`__init__`)**:\n",
    "- `__init__` is a special method used to initialize object attributes when the object is created.\n",
    "- It's called automatically when creating a new instance of the class (`__init__(self, ...)`).\n",
    "\n",
    "\n",
    "### 6. **Encapsulation**:\n",
    "- Classes help in encapsulating data and methods together.\n",
    "- Access to attributes and methods can be controlled using access specifiers (`public`, `private`, `protected`).\n",
    "\n",
    "\n",
    "### 7. **Inheritance**:\n",
    "- Inheritance allows a new class (child class) to inherit properties and methods from an existing class (parent class).\n",
    "- The child class can add new attributes or methods or override existing ones.\n",
    "\n",
    "\n",
    "### 8. **Polymorphism**:\n",
    "- Polymorphism allows objects of different classes to be treated as objects of a common superclass.\n",
    "- It enables a single interface to be used for different data types or classes.\n",
    "\n",
    "\n",
    "### 9. **Abstraction**:\n",
    "- Abstraction hides complex implementation details and only shows essential features of an object.\n",
    "- It allows the user to focus on what an object does, rather than how it does it.\n",
    "\n",
    "\n",
    "### 10. **Class and Instance Variables**:\n",
    "- Class variables are shared by all instances of the class.\n",
    "- Instance variables are unique to each instance of the class.\n",
    "\n",
    "\n",
    "### 11. **Destructor (`__del__`)**:\n",
    "- `__del__` is a special method used to perform clean-up operations before an object is destroyed.\n",
    "\n",
    "\n",
    "### 12. **Operator Overloading**:\n",
    "- Allows defining custom behavior for operators such as `+`, `-`, `*`, `/`, etc., for objects of a class.\n"
   ]
  },
  {
   "cell_type": "code",
   "execution_count": 28,
   "id": "2d54eaac",
   "metadata": {},
   "outputs": [
    {
     "name": "stdout",
     "output_type": "stream",
     "text": [
      "Buddy is 3 years old.\n",
      "Whiskers is 5 years old.\n",
      "Buddy says: Woof!\n",
      "Whiskers says: Meow!\n",
      "Buddy is a Mammal\n",
      "Whiskers is a Mammal\n"
     ]
    }
   ],
   "source": [
    "# Creating a class\n",
    "class Animal:\n",
    "    # Class attribute\n",
    "    species = \"Mammal\"\n",
    "\n",
    "    # Constructor\n",
    "    def __init__(self, name, age):\n",
    "        # Instance attributes\n",
    "        self.name = name\n",
    "        self.age = age\n",
    "\n",
    "    # Instance method\n",
    "    def make_sound(self):\n",
    "        pass  # Placeholder method\n",
    "\n",
    "# Creating a subclass (inheritance)\n",
    "class Dog(Animal):\n",
    "    def make_sound(self):\n",
    "        return \"Woof!\"\n",
    "\n",
    "# Creating another subclass (inheritance)\n",
    "class Cat(Animal):\n",
    "    def make_sound(self):\n",
    "        return \"Meow!\"\n",
    "\n",
    "# Creating objects (instances)\n",
    "dog = Dog(\"Buddy\", 3)\n",
    "cat = Cat(\"Whiskers\", 5)\n",
    "\n",
    "# Accessing attributes and calling methods\n",
    "print(f\"{dog.name} is {dog.age} years old.\")\n",
    "print(f\"{cat.name} is {cat.age} years old.\")\n",
    "print(f\"{dog.name} says: {dog.make_sound()}\")\n",
    "print(f\"{cat.name} says: {cat.make_sound()}\")\n",
    "\n",
    "# Checking class attributes\n",
    "print(f\"{dog.name} is a {dog.species}\")\n",
    "print(f\"{cat.name} is a {cat.species}\")\n"
   ]
  },
  {
   "cell_type": "code",
   "execution_count": 146,
   "id": "2ac7fe63",
   "metadata": {
    "scrolled": true
   },
   "outputs": [
    {
     "name": "stdout",
     "output_type": "stream",
     "text": [
      "I love you Nila...\n",
      "I love you Vithu...\n",
      "Vithu Baby\n",
      "Nila Baby\n"
     ]
    }
   ],
   "source": [
    "class Love:\n",
    "\tfullName = \"\"\n",
    "    \n",
    "\tdef vithu(self):\n",
    "\t\tprint(\"I love you Nila...\")\n",
    "\tdef nila(self):\n",
    "\t\tprint(\"I love you Vithu...\")\n",
    "        \n",
    "#Create object to acccess class properties\n",
    "baby1 = Love()\n",
    "baby2 = Love()\n",
    "\n",
    "baby1.vithu()\n",
    "baby2.nila()\n",
    "\n",
    "baby1.fullName = \"Vithu Baby\"\n",
    "print(baby1.fullName)\n",
    "\n",
    "baby2.fullName = \"Nila Baby\"\n",
    "print(baby2.fullName)"
   ]
  },
  {
   "cell_type": "markdown",
   "id": "15e90edd",
   "metadata": {},
   "source": [
    "# Constructor and Self Keyword\n",
    "\n",
    "### 1. **Constructor (`__init__`)**:\n",
    "- The constructor method `__init__` is a special method in Python classes.\n",
    "- It gets called automatically when an object is created from a class.\n",
    "- It's used to initialize the object's attributes with initial values.\n",
    "- It allows for setting up the object's state upon creation.\n",
    "\n",
    "\n",
    "### 2. **Purpose of the Constructor**:\n",
    "- Initializing instance variables: `__init__` initializes the object's attributes with the values passed during object creation.\n",
    "- Setting up the initial state of the object: It helps define what attributes an object will have and their starting values.\n",
    "\n",
    "\n",
    "### 3. **Syntax**:\n",
    "- The `__init__` method takes at least one parameter, commonly named `self`, which refers to the object itself.\n",
    "- `self` is passed implicitly when calling methods or accessing attributes within the class.\n",
    "\n",
    "\n",
    "### 4. **Self Keyword**:\n",
    "- `self` is the conventional name used for the first parameter of instance methods in Python classes.\n",
    "- It refers to the instance of the class itself and allows access to its attributes and methods within the class.\n",
    "- It distinguishes between the instance's attributes and local variables within methods.\n",
    "\n",
    "\n",
    "### 5. **Use of `Self`**:\n",
    "- Inside the `__init__` method and other instance methods, `self` is used to access and modify the object's attributes.\n",
    "- It is not a reserved keyword in Python but a convention to use `self` as the first parameter.\n",
    "\n",
    "\n",
    "### 6. **Example**:\n",
    "class Person:\n",
    "    def __init__(self, name, age):\n",
    "        self.name = name\n",
    "        self.age = age\n",
    "\n",
    "    def display_info(self):\n",
    "        print(f\"Name: {self.name}, Age: {self.age}\")\n",
    "\n",
    "\n",
    "### Creating an object of the class Person\n",
    "person1 = Person(\"Alice\", 30)\n",
    "person1.display_info()  # Output: Name: Alice, Age: 30\n",
    "\n",
    "\n",
    "### 7. **Implicit Invocation**:\n",
    "- When you create an instance of a class (`object = Class()`), Python implicitly passes the object itself (`self`) to the `__init__` method.\n",
    "- Therefore, you don’t need to explicitly pass `self` when creating objects; it's done automatically by Python.\n"
   ]
  },
  {
   "cell_type": "code",
   "execution_count": 29,
   "id": "f9742bc4",
   "metadata": {},
   "outputs": [
    {
     "name": "stdout",
     "output_type": "stream",
     "text": [
      "Name: Alice, Age: 30\n",
      "Name: Bob, Age: 25\n"
     ]
    }
   ],
   "source": [
    "class Person:\n",
    "    def __init__(self, name, age):\n",
    "        # Initializing instance variables using the constructor\n",
    "        self.name = name\n",
    "        self.age = age\n",
    "\n",
    "    def display_info(self):\n",
    "        # Accessing instance variables using self within a method\n",
    "        print(f\"Name: {self.name}, Age: {self.age}\")\n",
    "\n",
    "# Creating an object of the class Person\n",
    "person1 = Person(\"Alice\", 30)\n",
    "person1.display_info()  # Output: Name: Alice, Age: 30\n",
    "\n",
    "# Creating another object of the class Person\n",
    "person2 = Person(\"Bob\", 25)\n",
    "person2.display_info()  # Output: Name: Bob, Age: 25\n"
   ]
  },
  {
   "cell_type": "code",
   "execution_count": 1,
   "id": "30dcce39",
   "metadata": {},
   "outputs": [
    {
     "name": "stdout",
     "output_type": "stream",
     "text": [
      "Ram: 32GB\n",
      "Processor: i9\n"
     ]
    }
   ],
   "source": [
    "class Laptop:\n",
    "    def __init__(self): #wich mean constructure it will call automatically when create object\n",
    "        self.price = 0\n",
    "        self.ram = \"\"\n",
    "        self.processor = \"\"\n",
    "        \n",
    "    def display(self):\n",
    "        print(\"Ram:\", self.ram)\n",
    "        print(\"Processor:\", self.processor)\n",
    "        \n",
    "    \n",
    "        \n",
    "hp = Laptop()\n",
    "\n",
    "hp.price = 160000\n",
    "hp.ram = \"32GB\"\n",
    "hp.processor = \"i9\"\n",
    "\n",
    "\n",
    "hp.display()\n",
    "\n",
    "#Using self we can denote current object"
   ]
  },
  {
   "cell_type": "markdown",
   "id": "ca6f2311",
   "metadata": {},
   "source": [
    "# Types of Class Variable\n",
    "\n",
    "### 1. **Instance Variables**:\n",
    "   - Variables that are specific to each instance of a class.\n",
    "   - Defined within methods and initialized using the `self` keyword inside the class's `__init__` method.\n",
    "   - Example:\n",
    "\n",
    "    class MyClass:\n",
    "        def __init__(self, var):\n",
    "            self.instance_var = var\n",
    "\n",
    "\n",
    "### 2. **Class Variables**:\n",
    "   - Variables that are shared among all instances of a class.\n",
    "   - Defined within the class but outside of any methods.\n",
    "   - Accessed using the class name or an instance.\n",
    "   - Example:\n",
    "\n",
    "    class MyClass:\n",
    "        class_var = \"Shared among all instances\"\n",
    "\n",
    "        def __init__(self, var):\n",
    "            self.instance_var = var\n",
    "\n",
    "\n",
    "   - Changes to class variables reflect across all instances:\n",
    "\n",
    "\n",
    "    obj1 = MyClass(\"First\")\n",
    "    obj2 = MyClass(\"Second\")\n",
    "\n",
    "    print(obj1.class_var)  # Accessing class variable via instance\n",
    "    print(obj2.class_var)\n",
    "\n",
    "    MyClass.class_var = \"Modified for all\"\n",
    "\n",
    "    print(obj1.class_var)  # All instances reflect the change\n",
    "    print(obj2.class_var)\n"
   ]
  },
  {
   "cell_type": "code",
   "execution_count": null,
   "id": "2b596cf5",
   "metadata": {},
   "outputs": [],
   "source": [
    "#Instance variables"
   ]
  },
  {
   "cell_type": "code",
   "execution_count": 30,
   "id": "6ceaa75a",
   "metadata": {},
   "outputs": [
    {
     "name": "stdout",
     "output_type": "stream",
     "text": [
      "Name: Alice, Salary: 50000\n",
      "Name: Bob, Salary: 60000\n"
     ]
    }
   ],
   "source": [
    "class Employee:\n",
    "    def __init__(self, name, salary):\n",
    "        self.name = name  # Instance variable\n",
    "        self.salary = salary  # Instance variable\n",
    "\n",
    "    def display_info(self):\n",
    "        print(f\"Name: {self.name}, Salary: {self.salary}\")\n",
    "\n",
    "# Creating instances of Employee\n",
    "emp1 = Employee(\"Alice\", 50000)\n",
    "emp2 = Employee(\"Bob\", 60000)\n",
    "\n",
    "# Accessing instance variables\n",
    "emp1.display_info()  # Output: Name: Alice, Salary: 50000\n",
    "emp2.display_info()  # Output: Name: Bob, Salary: 60000\n"
   ]
  },
  {
   "cell_type": "code",
   "execution_count": 11,
   "id": "ad2f191c",
   "metadata": {},
   "outputs": [
    {
     "name": "stdout",
     "output_type": "stream",
     "text": [
      "Brand :  Samsung\n",
      "Price :  45000\n",
      "Charger Type :  Type-C\n"
     ]
    }
   ],
   "source": [
    "class phone:\n",
    "    def __init__(self, brand, price, chargerType):\n",
    "        self.brand = brand\n",
    "        self.price = price\n",
    "        self.chargerType = chargerType\n",
    "    \n",
    "    def display(self):\n",
    "        print(\"Brand : \", self.brand)\n",
    "        print(\"Price : \", self.price)\n",
    "        print(\"Charger Type : \", self.chargerType)\n",
    "\n",
    "\n",
    "samsung = phone(\"Samsung\", 45000, \"Type-C\")\n",
    "\n",
    "samsung.display()\n"
   ]
  },
  {
   "cell_type": "code",
   "execution_count": null,
   "id": "0f3bca5a",
   "metadata": {},
   "outputs": [],
   "source": [
    "#Class variables"
   ]
  },
  {
   "cell_type": "code",
   "execution_count": 31,
   "id": "ad49d5ac",
   "metadata": {},
   "outputs": [
    {
     "name": "stdout",
     "output_type": "stream",
     "text": [
      "XYZ Corp\n",
      "XYZ Corp\n",
      "Name: Alice, Salary: 50000, Company: XYZ Corp\n",
      "Name: Bob, Salary: 60000, Company: XYZ Corp\n"
     ]
    }
   ],
   "source": [
    "class Employee:\n",
    "    company = \"XYZ Corp\"  # Class variable\n",
    "\n",
    "    def __init__(self, name, salary):\n",
    "        self.name = name  # Instance variable\n",
    "        self.salary = salary  # Instance variable\n",
    "\n",
    "    def display_info(self):\n",
    "        print(f\"Name: {self.name}, Salary: {self.salary}, Company: {Employee.company}\")\n",
    "\n",
    "# Creating instances of Employee\n",
    "emp1 = Employee(\"Alice\", 50000)\n",
    "emp2 = Employee(\"Bob\", 60000)\n",
    "\n",
    "# Accessing class variable using class name and instance\n",
    "print(emp1.company)  # Output: XYZ Corp\n",
    "print(emp2.company)  # Output: XYZ Corp\n",
    "\n",
    "# Accessing class variable through a method\n",
    "emp1.display_info()  # Output: Name: Alice, Salary: 50000, Company: XYZ Corp\n",
    "emp2.display_info()  # Output: Name: Bob, Salary: 60000, Company: XYZ Corp\n"
   ]
  },
  {
   "cell_type": "code",
   "execution_count": 15,
   "id": "e38550fb",
   "metadata": {},
   "outputs": [
    {
     "name": "stdout",
     "output_type": "stream",
     "text": [
      "Brand :  Samsung\n",
      "Price :  45000\n",
      "Charger Type :  Type-C\n",
      "Brand :  Nokia\n",
      "Price :  45000\n",
      "Charger Type :  Type-C\n",
      "Brand :  Google\n",
      "Price :  85000\n",
      "Charger Type :  Type-C\n",
      "Brand :  Apple\n",
      "Price :  185000\n",
      "Charger Type :  Type-B\n"
     ]
    }
   ],
   "source": [
    "class phone:\n",
    "    chargerType = \"Type-C\"\n",
    "    \n",
    "    def __init__(self, brand, price):\n",
    "        self.brand = brand\n",
    "        self.price = price\n",
    "    \n",
    "    def display(self):\n",
    "        print(\"Brand : \", self.brand)\n",
    "        print(\"Price : \", self.price)\n",
    "        print(\"Charger Type : \", self.chargerType)\n",
    "\n",
    "\n",
    "samsung = phone(\"Samsung\", 45000)\n",
    "samsung.display()\n",
    "\n",
    "nokia = phone(\"Nokia\", 45000)\n",
    "nokia.display()\n",
    "\n",
    "google = phone(\"Google\", 85000)\n",
    "google.display()\n",
    "\n",
    "phone.chargerType = \"Type-B\" #Modify the class variables\n",
    "\n",
    "apple = phone(\"Apple\", 185000)\n",
    "apple.display()"
   ]
  },
  {
   "cell_type": "markdown",
   "id": "39b28009",
   "metadata": {},
   "source": [
    "# Types of Class Methods\n",
    "\n",
    "\n",
    "### 1. **Instance Methods**:\n",
    "- **Definition**: Instance methods are regular methods defined inside a class and operate on instances of that class.\n",
    "- **Access**: They automatically take the instance (self) as the first parameter.\n",
    "- **Purpose**: They can access and modify instance variables, as well as perform actions related to individual instances.\n",
    "- **Example**:\n",
    "    class MyClass:\n",
    "        def instance_method(self):\n",
    "            # Access instance variables using self\n",
    "            self.value = 10\n",
    "\n",
    "\n",
    "### 2. **Class Methods**:\n",
    "- **Definition**: Class methods are methods that operate on the class itself rather than instances.\n",
    "- **Decorator**: Defined using `@classmethod` decorator and take `cls` (class) as the first parameter.\n",
    "- **Purpose**: Used for operations that involve the class itself or class variables shared among all instances.\n",
    "- **Example**:\n",
    "    class MyClass:\n",
    "        class_variable = \"class_variable\"\n",
    "\n",
    "        @classmethod\n",
    "        def class_method(cls):\n",
    "            return cls.class_variable\n",
    "            \n",
    "\n",
    "### 3. **Static Methods**:\n",
    "- **Definition**: Static methods are independent of class and instance variables.\n",
    "- **Decorator**: Defined using `@staticmethod` decorator.\n",
    "- **Purpose**: Used when a method does not require access to instance or class variables within the class.\n",
    "- **Example**:\n",
    "    class MyClass:\n",
    "        @staticmethod\n",
    "        def static_method():\n",
    "            return \"This is a static method\"\n",
    "\n",
    "\n",
    "\n",
    "### 4. **Special Note**:\n",
    "- **`self`, `cls`, and `@staticmethod`**:\n",
    "    - `self`: Refers to the instance of the class in instance methods.\n",
    "    - `cls`: Refers to the class itself in class methods.\n",
    "    - `@staticmethod`: Decorator used to define static methods, making them independent of class and instance variables.\n"
   ]
  },
  {
   "cell_type": "code",
   "execution_count": 34,
   "id": "08ba4bfd",
   "metadata": {},
   "outputs": [
    {
     "name": "stdout",
     "output_type": "stream",
     "text": [
      "This is an instance method\n"
     ]
    }
   ],
   "source": [
    "#Instance Method\n",
    "class MyClass:\n",
    "    def instance_method(self):\n",
    "        return \"This is an instance method\"\n",
    "\n",
    "# Creating an instance of MyClass\n",
    "obj = MyClass()\n",
    "\n",
    "# Calling the instance method\n",
    "print(obj.instance_method())  # Output: This is an instance method\n"
   ]
  },
  {
   "cell_type": "code",
   "execution_count": 36,
   "id": "397d35a2",
   "metadata": {},
   "outputs": [
    {
     "name": "stdout",
     "output_type": "stream",
     "text": [
      "This is a static method\n"
     ]
    }
   ],
   "source": [
    "#Static method\n",
    "class MyClass:\n",
    "    @staticmethod\n",
    "    def static_method():\n",
    "        return \"This is a static method\"\n",
    "\n",
    "# Calling the static method\n",
    "print(MyClass.static_method())  # Output: This is a static method\n"
   ]
  },
  {
   "cell_type": "code",
   "execution_count": 38,
   "id": "eac605c6",
   "metadata": {},
   "outputs": [
    {
     "name": "stdout",
     "output_type": "stream",
     "text": [
      "class_variable\n"
     ]
    }
   ],
   "source": [
    "#Class Method\n",
    "class MyClass:\n",
    "    class_variable = \"class_variable\"\n",
    "\n",
    "    @classmethod\n",
    "    def class_method(cls):\n",
    "        return cls.class_variable\n",
    "\n",
    "# Accessing class method using class name\n",
    "print(MyClass.class_method())  # Output: class_variable\n"
   ]
  },
  {
   "cell_type": "markdown",
   "id": "832b0c5a",
   "metadata": {},
   "source": [
    "# Inheritance and its type\n",
    "\n",
    "### 1. **Inheritance**:\n",
    "- Inheritance is a feature in object-oriented programming that allows a new class (subclass/derived class) to inherit properties and behaviors (methods and attributes) from an existing class (superclass/base/parent class).\n",
    "- It facilitates code reusability and promotes the creation of a hierarchical structure among classes.\n",
    "\n",
    "\n",
    "### 2. **Types of Inheritance**:\n",
    "\n",
    "#### a. **Single Inheritance**:\n",
    "- A subclass inherits from only one superclass.\n",
    "- It forms a linear hierarchy.\n",
    "- Example:\n",
    "    class Parent:\n",
    "        pass\n",
    "\n",
    "    class Child(Parent):\n",
    "        pass\n",
    "        \n",
    "\n",
    "#### b. **Multiple Inheritance**:\n",
    "- A subclass inherits from multiple superclasses.\n",
    "- It allows inheriting attributes and methods from multiple classes.\n",
    "- Example:\n",
    "    class ClassA:\n",
    "        pass\n",
    "\n",
    "    class ClassB:\n",
    "        pass\n",
    "\n",
    "    class Child(ClassA, ClassB):\n",
    "        pass\n",
    "\n",
    "\n",
    "#### c. **Multilevel Inheritance**:\n",
    "- A subclass inherits from another subclass.\n",
    "- It forms a chain of inheritance.\n",
    "- Example:\n",
    "    class Grandparent:\n",
    "        pass\n",
    "\n",
    "    class Parent(Grandparent):\n",
    "        pass\n",
    "\n",
    "    class Child(Parent):\n",
    "        pass\n",
    "\n",
    "\n",
    "#### d. **Hierarchical Inheritance**:\n",
    "- Multiple subclasses inherit from a single superclass.\n",
    "- Each subclass has its own set of attributes and methods.\n",
    "- Example:\n",
    "    class Parent:\n",
    "        pass\n",
    "\n",
    "    class Child1(Parent):\n",
    "        pass\n",
    "\n",
    "    class Child2(Parent):\n",
    "        pass\n",
    "\n",
    "\n",
    "#### e. **Hybrid Inheritance**:\n",
    "- Combination of different types of inheritance.\n",
    "- Example:\n",
    "    class ClassA:\n",
    "        pass\n",
    "\n",
    "    class ClassB(ClassA):\n",
    "        pass\n",
    "\n",
    "    class ClassC:\n",
    "        pass\n",
    "\n",
    "    class ClassD(ClassB, ClassC):\n",
    "        pass\n",
    "\n",
    "\n",
    "### 3. **Inheritance Terminology**:\n",
    "- **Superclass/Parent/Base Class**: The class whose properties and behaviors are inherited.\n",
    "- **Subclass/Derived Class/Child Class**: The class that inherits from a superclass.\n",
    "- **Method Overriding**: Redefining a method in the subclass that already exists in the superclass.\n",
    "\n",
    "\n",
    "### 4. **Use of `super()`**:\n",
    "- `super()` is used to access the methods and properties of a superclass from a subclass.\n",
    "\n",
    "\n",
    "### 5. **Advantages**:\n",
    "- Code Reusability: Avoids redundant code by inheriting attributes and methods.\n",
    "- Modularity: Divides the code into manageable and organized parts.\n"
   ]
  },
  {
   "cell_type": "code",
   "execution_count": 40,
   "id": "f083d14c",
   "metadata": {},
   "outputs": [
    {
     "name": "stdout",
     "output_type": "stream",
     "text": [
      "Parent class method\n",
      "Parent class method\n",
      "Child class method\n"
     ]
    }
   ],
   "source": [
    "#Single Inheritance\n",
    "class Parent:\n",
    "    def show_parent(self):\n",
    "        return \"Parent class method\"\n",
    "\n",
    "class Child(Parent):\n",
    "    def show_child(self):\n",
    "        return \"Child class method\"\n",
    "\n",
    "# Creating instances and accessing methods\n",
    "parent = Parent()\n",
    "child = Child()\n",
    "\n",
    "print(parent.show_parent())  # Output: Parent class method\n",
    "print(child.show_parent())   # Output: Parent class method\n",
    "print(child.show_child())    # Output: Child class method\n"
   ]
  },
  {
   "cell_type": "code",
   "execution_count": 55,
   "id": "5a992145",
   "metadata": {},
   "outputs": [
    {
     "name": "stdout",
     "output_type": "stream",
     "text": [
      "Dads phone\n"
     ]
    }
   ],
   "source": [
    "class dad:\n",
    "    def phone(self):\n",
    "        print(\"Dads phone\")\n",
    "\n",
    "class son(dad):\n",
    "    def laptop(self):\n",
    "        print(\"Sons phone\")\n",
    "\n",
    "vithu = son()\n",
    "vithu.phone()"
   ]
  },
  {
   "cell_type": "code",
   "execution_count": 47,
   "id": "692f7b15",
   "metadata": {},
   "outputs": [
    {
     "name": "stdout",
     "output_type": "stream",
     "text": [
      "Method from ClassA\n",
      "Method from ClassB\n",
      "Method from ClassC\n"
     ]
    }
   ],
   "source": [
    "#Multiple Inheritance\n",
    "class ClassA:\n",
    "    def method_a(self):\n",
    "        return \"Method from ClassA\"\n",
    "\n",
    "class ClassB:\n",
    "    def method_b(self):\n",
    "        return \"Method from ClassB\"\n",
    "\n",
    "class ClassC(ClassA, ClassB):\n",
    "    def method_c(self):\n",
    "        return \"Method from ClassC\"\n",
    "\n",
    "# Creating instances and accessing methods\n",
    "obj = ClassC()\n",
    "\n",
    "print(obj.method_a())  # Output: Method from ClassA\n",
    "print(obj.method_b())  # Output: Method from ClassB\n",
    "print(obj.method_c())  # Output: Method from ClassC\n"
   ]
  },
  {
   "cell_type": "code",
   "execution_count": 48,
   "id": "7e13bee8",
   "metadata": {},
   "outputs": [
    {
     "name": "stdout",
     "output_type": "stream",
     "text": [
      "Dads phone\n",
      "Moms sweet\n"
     ]
    }
   ],
   "source": [
    "class dad:\n",
    "    def phone(self):\n",
    "        print(\"Dads phone\")\n",
    "        \n",
    "class mom:\n",
    "    def sweet(self):\n",
    "        print(\"Moms sweet\")\n",
    "        \n",
    "class son(dad, mom):\n",
    "    def laptop(self):\n",
    "        print(\"Sons phone\")\n",
    "\n",
    "vithu = son()\n",
    "vithu.phone()\n",
    "vithu.sweet()"
   ]
  },
  {
   "cell_type": "code",
   "execution_count": 42,
   "id": "52ef998c",
   "metadata": {},
   "outputs": [
    {
     "name": "stdout",
     "output_type": "stream",
     "text": [
      "Method from Grandparent\n",
      "Method from Parent\n",
      "Method from Child\n"
     ]
    }
   ],
   "source": [
    "#Multilevel Inheritance\n",
    "class Grandparent:\n",
    "    def method_gp(self):\n",
    "        return \"Method from Grandparent\"\n",
    "\n",
    "class Parent(Grandparent):\n",
    "    def method_p(self):\n",
    "        return \"Method from Parent\"\n",
    "\n",
    "class Child(Parent):\n",
    "    def method_c(self):\n",
    "        return \"Method from Child\"\n",
    "\n",
    "# Creating instances and accessing methods\n",
    "obj = Child()\n",
    "\n",
    "print(obj.method_gp())  # Output: Method from Grandparent\n",
    "print(obj.method_p())   # Output: Method from Parent\n",
    "print(obj.method_c())   # Output: Method from Child\n"
   ]
  },
  {
   "cell_type": "code",
   "execution_count": 56,
   "id": "bdcff60c",
   "metadata": {},
   "outputs": [
    {
     "name": "stdout",
     "output_type": "stream",
     "text": [
      "sons laptop\n",
      "Dads money\n",
      "grandpa phone\n",
      "grandpa phone\n"
     ]
    }
   ],
   "source": [
    "class grandpa:\n",
    "    def phone(self):\n",
    "        print(\"grandpa phone\")\n",
    "        \n",
    "class dad(grandpa):\n",
    "    def money(self):\n",
    "        print(\"Dads money\")\n",
    "        \n",
    "class son(dad):\n",
    "    def laptop(self):\n",
    "        print(\"sons laptop\")\n",
    "        \n",
    "vithu = son()\n",
    "vithu.laptop()\n",
    "vithu.money()\n",
    "\n",
    "d1 = dad()\n",
    "d1.phone()\n",
    "\n",
    "vithu.phone() #note it"
   ]
  },
  {
   "cell_type": "code",
   "execution_count": 44,
   "id": "b97e9e9a",
   "metadata": {},
   "outputs": [
    {
     "name": "stdout",
     "output_type": "stream",
     "text": [
      "Method from Parent\n",
      "Method from Child1\n",
      "Method from Parent\n",
      "Method from Child2\n"
     ]
    }
   ],
   "source": [
    "#Hierarchical Inheritance\n",
    "class Parent:\n",
    "    def method_p(self):\n",
    "        return \"Method from Parent\"\n",
    "\n",
    "class Child1(Parent):\n",
    "    def method_c1(self):\n",
    "        return \"Method from Child1\"\n",
    "\n",
    "class Child2(Parent):\n",
    "    def method_c2(self):\n",
    "        return \"Method from Child2\"\n",
    "\n",
    "# Creating instances and accessing methods\n",
    "obj1 = Child1()\n",
    "obj2 = Child2()\n",
    "\n",
    "print(obj1.method_p())  # Output: Method from Parent\n",
    "print(obj1.method_c1())  # Output: Method from Child1\n",
    "print(obj2.method_p())  # Output: Method from Parent\n",
    "print(obj2.method_c2())  # Output: Method from Child2\n"
   ]
  },
  {
   "cell_type": "code",
   "execution_count": 57,
   "id": "936d0105",
   "metadata": {},
   "outputs": [
    {
     "name": "stdout",
     "output_type": "stream",
     "text": [
      "Dads money\n"
     ]
    }
   ],
   "source": [
    "class dad:\n",
    "    def money(self):\n",
    "        print(\"Dads money\")\n",
    "        \n",
    "class son1(dad):\n",
    "    pass\n",
    "class son2(dad):\n",
    "    pass\n",
    "class son3(dad):\n",
    "    pass\n",
    "\n",
    "vithu = son2()\n",
    "vithu.money()"
   ]
  },
  {
   "cell_type": "code",
   "execution_count": 58,
   "id": "639f4b66",
   "metadata": {},
   "outputs": [
    {
     "name": "stdout",
     "output_type": "stream",
     "text": [
      "Method from ClassA\n",
      "Method from ClassB\n",
      "Method from ClassC\n",
      "Method from ClassD\n"
     ]
    }
   ],
   "source": [
    "#Hybrid inheritance\n",
    "class ClassA:\n",
    "    def method_a(self):\n",
    "        return \"Method from ClassA\"\n",
    "\n",
    "class ClassB(ClassA):\n",
    "    def method_b(self):\n",
    "        return \"Method from ClassB\"\n",
    "\n",
    "class ClassC:\n",
    "    def method_c(self):\n",
    "        return \"Method from ClassC\"\n",
    "\n",
    "class ClassD(ClassB, ClassC):\n",
    "    def method_d(self):\n",
    "        return \"Method from ClassD\"\n",
    "\n",
    "# Creating instances and accessing methods\n",
    "obj = ClassD()\n",
    "\n",
    "print(obj.method_a())  # Output: Method from ClassA\n",
    "print(obj.method_b())  # Output: Method from ClassB\n",
    "print(obj.method_c())  # Output: Method from ClassC\n",
    "print(obj.method_d())  # Output: Method from ClassD\n"
   ]
  },
  {
   "cell_type": "code",
   "execution_count": null,
   "id": "fba40c31",
   "metadata": {},
   "outputs": [],
   "source": [
    "class dad:\n",
    "    def money(self):\n",
    "        print(\"Dads money\")\n",
    "        \n",
    "class land():\n",
    "    def important(self):\n",
    "        print(\"important land\")\n",
    "        \n",
    "class son1(dad, land):\n",
    "    pass\n",
    "class son2(dad):\n",
    "    pass\n",
    "class son3(dad):\n",
    "    pass\n",
    "\n",
    "vithu = son2()\n",
    "vithu.money()"
   ]
  },
  {
   "cell_type": "markdown",
   "id": "84a29ba7",
   "metadata": {},
   "source": [
    "# Super Keyword in Python\n",
    "\n",
    "### 1. **Purpose**:\n",
    "- **Accessing Superclass Methods**: `super()` allows a subclass to invoke methods from its superclass.\n",
    "- **Avoiding Hardcoding**: It provides a dynamic way to call methods in the superclass without hardcoding the superclass name.\n",
    "\n",
    "\n",
    "### 2. **Syntax**:\n",
    "- The general syntax for using `super()` is: `super().method()`.\n",
    "- In Python 3, you can simply use `super().method()` without passing the class name or self explicitly.\n",
    "\n",
    "\n",
    "### 3. **Usage**:\n",
    "- **Calling Superclass Methods**: Used to call a method defined in the superclass from a method in the subclass.\n",
    "- **Initiating the Parent Class**: Often used in the `__init__` method of a subclass to initialize attributes from the parent class.\n",
    "\n",
    "\n",
    "### 4. **`super()` with Multiple Inheritance**:\n",
    "- In multiple inheritance scenarios, `super()` helps in invoking methods of the superclass in the method resolution order (MRO).\n",
    "- It ensures that the method called is from the next class in the MRO sequence.\n",
    "\n",
    "\n",
    "### 5. **Example**:\n",
    "class Parent:\n",
    "    def show(self):\n",
    "        return \"Hello from Parent\"\n",
    "\n",
    "class Child(Parent):\n",
    "    def show(self):\n",
    "        return super().show() + \", and Child\"\n",
    "\n",
    "\n",
    "### Creating an instance of Child\n",
    "obj = Child()\n",
    "\n",
    "print(obj.show())  # Output: Hello from Parent, and Child\n"
   ]
  },
  {
   "cell_type": "code",
   "execution_count": 59,
   "id": "7b2b30b6",
   "metadata": {},
   "outputs": [
    {
     "name": "stdout",
     "output_type": "stream",
     "text": [
      "Hello from Parent, and Child\n"
     ]
    }
   ],
   "source": [
    "class Parent:\n",
    "    def show(self):\n",
    "        return \"Hello from Parent\"\n",
    "\n",
    "class Child(Parent):\n",
    "    def show(self):\n",
    "        # Calling superclass method using super()\n",
    "        return super().show() + \", and Child\"\n",
    "\n",
    "# Creating an instance of Child\n",
    "obj = Child()\n",
    "\n",
    "# Accessing the overridden method\n",
    "print(obj.show())  # Output: Hello from Parent, and Child\n"
   ]
  },
  {
   "cell_type": "code",
   "execution_count": 72,
   "id": "5a332174",
   "metadata": {},
   "outputs": [
    {
     "name": "stdout",
     "output_type": "stream",
     "text": [
      "A\n",
      "B\n"
     ]
    }
   ],
   "source": [
    "class a():\n",
    "    def __init__(self):\n",
    "        print(\"A\")\n",
    "        \n",
    "    def display(self):\n",
    "        print(\"you are class a\")\n",
    "        \n",
    "class b(a):\n",
    "    def __init__(self):\n",
    "        super().__init__() #class the parent class constructure\n",
    "        print(\"B\")\n",
    "        \n",
    "    def display(self):\n",
    "        print(\"you are class b\")\n",
    "        \n",
    "obj = b()"
   ]
  },
  {
   "cell_type": "markdown",
   "id": "9d399224",
   "metadata": {},
   "source": [
    "# Polymorphism in Python\n",
    "\n",
    "### 1. **Definition**:\n",
    "- **Polymorphism** refers to the ability of different objects to be used in a similar way, even if they belong to different classes.\n",
    "- It allows methods to be written to handle objects of various classes that have a common interface or superclass.\n",
    "\n",
    "\n",
    "### 2. **Types of Polymorphism**:\n",
    "\n",
    "#### a. **Compile-Time Polymorphism (Static Binding)**:\n",
    "- **Method Overloading**: Defining multiple methods with the same name but different parameters in the same class.\n",
    "- Python does not support traditional method overloading based on different argument types due to its dynamic nature. However, it does support default arguments and variable-length arguments.\n",
    "\n",
    "\n",
    "#### b. **Run-Time Polymorphism (Dynamic Binding)**:\n",
    "- **Method Overriding**: Occurs when a subclass provides a specific implementation of a method that is already defined in its superclass.\n",
    "- It allows a subclass to provide a specialized implementation of a method that is already provided by one of its parent classes.\n",
    "- Achieved using inheritance and the `super()` keyword to call methods from the superclass.\n",
    "\n",
    "\n",
    "### 3. **Example of Polymorphism**:\n",
    "class Animal:\n",
    "    def make_sound(self):\n",
    "        pass\n",
    "\n",
    "class Dog(Animal):\n",
    "    def make_sound(self):\n",
    "        return \"Woof!\"\n",
    "\n",
    "class Cat(Animal):\n",
    "    def make_sound(self):\n",
    "        return \"Meow!\"\n",
    "\n",
    "\n",
    "\n",
    "### Function using polymorphism\n",
    "def animal_sound(animal):\n",
    "    return animal.make_sound()\n",
    "    \n",
    "\n",
    "### Creating instances\n",
    "dog = Dog()\n",
    "cat = Cat()\n",
    "\n",
    "\n",
    "### Calling the function with different objects\n",
    "print(animal_sound(dog))  # Output: Woof!\n",
    "print(animal_sound(cat))  # Output: Meow!\n",
    "\n",
    "In the example, `animal_sound()` can take any object that has a `make_sound()` method, allowing the function to work with both `Dog` and `Cat` objects without changes, showcasing the polymorphic behavior of Python.\n",
    "\n",
    "\n",
    "### 4. **Advantages**:\n",
    "- **Code Flexibility**: Allows using objects of different classes interchangeably, enhancing code flexibility.\n",
    "- **Code Reusability**: Methods written to handle a superclass can be reused for its subclasses."
   ]
  },
  {
   "cell_type": "code",
   "execution_count": 73,
   "id": "ffa9bb97",
   "metadata": {},
   "outputs": [
    {
     "name": "stdout",
     "output_type": "stream",
     "text": [
      "Woof!\n",
      "Meow!\n"
     ]
    }
   ],
   "source": [
    "class Animal:\n",
    "    def make_sound(self):\n",
    "        pass\n",
    "\n",
    "class Dog(Animal):\n",
    "    def make_sound(self):\n",
    "        return \"Woof!\"\n",
    "\n",
    "class Cat(Animal):\n",
    "    def make_sound(self):\n",
    "        return \"Meow!\"\n",
    "\n",
    "# Function using polymorphism\n",
    "def animal_sound(animal):\n",
    "    return animal.make_sound()\n",
    "\n",
    "# Creating instances\n",
    "dog = Dog()\n",
    "cat = Cat()\n",
    "\n",
    "# Calling the function with different objects\n",
    "print(animal_sound(dog))  # Output: Woof!\n",
    "print(animal_sound(cat))  # Output: Meow!\n"
   ]
  },
  {
   "cell_type": "code",
   "execution_count": 78,
   "id": "1032c534",
   "metadata": {},
   "outputs": [
    {
     "name": "stdout",
     "output_type": "stream",
     "text": [
      "3\n",
      "6\n"
     ]
    }
   ],
   "source": [
    "def add(a,b,c=0):\n",
    "    print(a+b+c)\n",
    "\n",
    "add(1,2)\n",
    "add(1,2,3)"
   ]
  },
  {
   "cell_type": "markdown",
   "id": "376d7d90",
   "metadata": {},
   "source": [
    "# Encapsulation and Access Modifiers\n",
    "\n",
    "### 1. **Encapsulation**:\n",
    "- **Encapsulation** is a fundamental principle in object-oriented programming.\n",
    "- It involves bundling the data (attributes) and the methods (functions) that operate on the data into a single unit (class).\n",
    "- It restricts access to some of the object's components, hiding the internal state and requiring interaction through well-defined interfaces.\n",
    "- Encapsulation helps in achieving data abstraction, data hiding, and modularity in code.\n",
    "\n",
    "\n",
    "### 2. **Access Modifiers**:\n",
    "- Access modifiers define the accessibility or visibility of class members (attributes and methods) from outside the class.\n",
    "- In Python, there are no explicit keywords like `private`, `public`, or `protected` as in some other languages, but there are conventions and techniques to achieve similar behavior.\n",
    "\n",
    "\n",
    "### 3. **Access Levels in Python**:\n",
    "\n",
    "#### a. **Public**:\n",
    "- By default, all attributes and methods in a class are public.\n",
    "- They can be accessed from outside the class.\n",
    "\n",
    "\n",
    "#### b. **Private**:\n",
    "- Python uses a convention to denote private attributes or methods by prefixing them with a single underscore `_`.\n",
    "- They are intended to be private and should not be accessed directly from outside the class.\n",
    "- Example:\n",
    "    class MyClass:\n",
    "        def __init__(self):\n",
    "            self._private_var = 10  # Private variable\n",
    "\n",
    "\n",
    "\n",
    "#### c. **Protected**:\n",
    "- Python uses a convention to denote protected attributes or methods by prefixing them with a double underscore `__`.\n",
    "- They are intended to be protected, although it's more about name mangling rather than strict access control.\n",
    "- Example:\n",
    "    class MyClass:\n",
    "        def __init__(self):\n",
    "            self.__protected_var = 20  # Protected variable\n",
    "\n",
    "\n",
    "\n",
    "### 4. **Accessing Encapsulated Members**:\n",
    "- **Getter and Setter Methods**: Used to access and modify private or protected attributes indirectly.\n",
    "- **Property Decorators**: In Python, `@property` and `@<attribute_name>.setter` decorators are used to define getters and setters, allowing controlled access to attributes.\n",
    "\n",
    "\n",
    "\n",
    "### 5. **Purpose**:\n",
    "- Encapsulation and access modifiers help in maintaining the integrity of the data within a class by controlling its access from outside, promoting data security and preventing accidental modification.\n",
    "\n"
   ]
  },
  {
   "cell_type": "code",
   "execution_count": 79,
   "id": "3daf4ba7",
   "metadata": {},
   "outputs": [
    {
     "name": "stdout",
     "output_type": "stream",
     "text": [
      "Car Brand: Toyota\n",
      "Car Model: Corolla\n",
      "Car Price: 25000\n",
      "Updated Car Price: 30000\n"
     ]
    }
   ],
   "source": [
    "class Car:\n",
    "    def __init__(self, brand, model, price):\n",
    "        self.brand = brand  # Public attribute\n",
    "        self.model = model  # Public attribute\n",
    "        self.__price = price  # Private attribute\n",
    "\n",
    "    def get_price(self):\n",
    "        return self.__price\n",
    "\n",
    "    def set_price(self, new_price):\n",
    "        if new_price > 0:\n",
    "            self.__price = new_price\n",
    "\n",
    "# Creating an instance of Car\n",
    "car = Car(\"Toyota\", \"Corolla\", 25000)\n",
    "\n",
    "# Accessing public attributes directly\n",
    "print(\"Car Brand:\", car.brand)  # Output: Toyota\n",
    "print(\"Car Model:\", car.model)  # Output: Corolla\n",
    "\n",
    "# Accessing private attribute through getter method\n",
    "print(\"Car Price:\", car.get_price())  # Output: 25000\n",
    "\n",
    "# Trying to access private attribute directly\n",
    "# This will not work as it's private and not accessible directly outside the class\n",
    "# print(\"Car Price:\", car.__price)  # Throws an AttributeError\n",
    "\n",
    "# Changing private attribute using setter method\n",
    "car.set_price(30000)\n",
    "\n",
    "# Accessing updated private attribute through getter method\n",
    "print(\"Updated Car Price:\", car.get_price())  # Output: 30000\n"
   ]
  },
  {
   "cell_type": "code",
   "execution_count": 94,
   "id": "da4c2c8a",
   "metadata": {},
   "outputs": [
    {
     "name": "stdout",
     "output_type": "stream",
     "text": [
      "Google\n"
     ]
    }
   ],
   "source": [
    "class company():\n",
    "    def __init__(self):\n",
    "        self._companyName = \"Google\" #private\n",
    "        \n",
    "    def getName(self):\n",
    "        print(self._companyName)\n",
    "        \n",
    "c1 = company()\n",
    "\n",
    "c1.getName()"
   ]
  },
  {
   "cell_type": "markdown",
   "id": "13893e61",
   "metadata": {},
   "source": [
    "# Exception Handling in Python\n",
    "\n",
    "### 1. **Exceptions**:\n",
    "- **Errors** in Python are represented as exceptions. They can occur during program execution due to various reasons like invalid user input, file not found, division by zero, etc.\n",
    "- Exceptions can be handled to prevent abrupt termination of the program and allow graceful error recovery.\n",
    "\n",
    "\n",
    "### 2. **Try-Except Block**:\n",
    "- **`try`**: The code that might raise an exception is placed within the `try` block.\n",
    "- **`except`**: If an exception occurs within the `try` block, the execution moves to the corresponding `except` block that handles the exception.\n",
    "- Example:\n",
    "    try:\n",
    "        # Code that might raise an exception\n",
    "        result = 10 / 0  # Division by zero\n",
    "    except ZeroDivisionError as e:\n",
    "        # Handling the ZeroDivisionError exception\n",
    "        print(\"Error:\", e)\n",
    "        \n",
    "\n",
    "### 3. **Handling Multiple Exceptions**:\n",
    "- Multiple `except` blocks can be used to handle different types of exceptions.\n",
    "- A single `except` block can handle multiple exceptions by placing them within a tuple.\n",
    "- Example:\n",
    "    try:\n",
    "        # Code that might raise exceptions\n",
    "        file = open(\"nonexistent_file.txt\", \"r\")\n",
    "        result = 10 / 0  # Division by zero\n",
    "    except (FileNotFoundError, ZeroDivisionError) as e:\n",
    "        # Handling multiple exceptions\n",
    "        print(\"Error:\", e)\n",
    "        \n",
    "\n",
    "### 4. **`else` and `finally` Blocks**:\n",
    "- **`else`**: Used after the `try` block. Executes if no exception occurs.\n",
    "- **`finally`**: Used to execute code irrespective of whether an exception occurred or not.\n",
    "- Example:\n",
    "    try:\n",
    "        # Code that might raise an exception\n",
    "        result = 10 / 2  # Division\n",
    "    except ZeroDivisionError as e:\n",
    "        # Handling the ZeroDivisionError exception\n",
    "        print(\"Error:\", e)\n",
    "    else:\n",
    "        # Executed if no exception occurs\n",
    "        print(\"Result:\", result)\n",
    "    finally:\n",
    "        # Executed irrespective of an exception\n",
    "        print(\"Execution completed.\")\n",
    "\n",
    "\n",
    "### 5. **Raising Exceptions**:\n",
    "- `raise` statement is used to raise a specific exception manually.\n",
    "- Example:\n",
    "    x = 10\n",
    "    if x > 5:\n",
    "        raise ValueError(\"x should not be greater than 5\")\n"
   ]
  },
  {
   "cell_type": "code",
   "execution_count": 95,
   "id": "6f2ae123",
   "metadata": {},
   "outputs": [
    {
     "name": "stdout",
     "output_type": "stream",
     "text": [
      "Error: division by zero\n",
      "Execution completed.\n",
      "Error: [Errno 2] No such file or directory: 'nonexistent_file.txt'\n",
      "Error: x should not be greater than 5\n"
     ]
    }
   ],
   "source": [
    "try:\n",
    "    # Code that might raise an exception\n",
    "    result = 10 / 0  # Division by zero\n",
    "except ZeroDivisionError as e:\n",
    "    # Handling the ZeroDivisionError exception\n",
    "    print(\"Error:\", e)\n",
    "else:\n",
    "    # Executed if no exception occurs\n",
    "    print(\"Result:\", result)\n",
    "finally:\n",
    "    # Executed irrespective of an exception\n",
    "    print(\"Execution completed.\")\n",
    "\n",
    "try:\n",
    "    # Code that might raise exceptions\n",
    "    file = open(\"nonexistent_file.txt\", \"r\")\n",
    "    result = 10 / 0  # Division by zero\n",
    "except (FileNotFoundError, ZeroDivisionError) as e:\n",
    "    # Handling multiple exceptions\n",
    "    print(\"Error:\", e)\n",
    "\n",
    "try:\n",
    "    x = 10\n",
    "    if x > 5:\n",
    "        raise ValueError(\"x should not be greater than 5\")\n",
    "except ValueError as e:\n",
    "    # Raising an exception manually\n",
    "    print(\"Error:\", e)\n"
   ]
  },
  {
   "cell_type": "code",
   "execution_count": 103,
   "id": "df1afa06",
   "metadata": {},
   "outputs": [
    {
     "name": "stdout",
     "output_type": "stream",
     "text": [
      "Hi\n",
      "Bye\n",
      "name 'printt' is not defined\n",
      "Have you understood what what happens haha...\n"
     ]
    }
   ],
   "source": [
    "try:\n",
    "    print(\"Hi\")\n",
    "    print(\"Bye\")\n",
    "    printt(\"Hey\")\n",
    "\n",
    "except Exception as e:\n",
    "    print(e)\n",
    "    \n",
    "finally:\n",
    "    print(\"Have you understood what what happens haha...\")\n"
   ]
  },
  {
   "cell_type": "markdown",
   "id": "80dc73ee",
   "metadata": {},
   "source": [
    "# File Handling\n",
    "\n",
    "### 1. **File Operations**:\n",
    "- **File**: A named location on disk to store related information.\n",
    "- Python offers built-in functions and methods for creating, reading, updating, and deleting files.\n",
    "\n",
    "\n",
    "### 2. **File Modes**:\n",
    "- **Read Mode (`'r'`)**: Opens a file for reading. Raises an error if the file does not exist.\n",
    "- **Write Mode (`'w'`)**: Opens a file for writing. Creates a new file if it does not exist. Truncates the file if it exists.\n",
    "- **Append Mode (`'a'`)**: Opens a file for appending. Creates a new file if it does not exist. Preserves existing file content.\n",
    "- **Read and Write Mode (`'r+'`)**: Opens a file for both reading and writing.\n",
    "- **Binary Mode (`'b'`)**: Adds a binary mode to the existing modes, allowing manipulation of binary files.\n",
    "\n",
    "\n",
    "### 3. **File Handling Steps**:\n",
    "- **Opening a File**: Using the `open()` function to open a file in a specified mode.\n",
    "- **Reading from a File**: Using methods like `read()`, `readline()`, or `readlines()` to read content from the file.\n",
    "- **Writing to a File**: Using methods like `write()` or `writelines()` to write content to the file.\n",
    "- **Closing a File**: Using the `close()` method to close the file once operations are done. It's crucial for proper memory management and file closure.\n",
    "\n",
    "\n",
    "### 4. **File Object Attributes and Methods**:\n",
    "- **`read(size)`**: Reads `size` bytes from the file.\n",
    "- **`readline(size)`**: Reads a line from the file.\n",
    "- **`write(string)`**: Writes the string to the file.\n",
    "- **`close()`**: Closes the file.\n",
    "- **`seek(offset, whence)`**: Moves the file pointer to a specific position.\n",
    "- **`tell()`**: Returns the current position of the file pointer.\n",
    "\n",
    "\n",
    "### 5. **Context Managers (`with` statement)**:\n",
    "- The `with` statement in Python ensures that the file is properly closed after its suite finishes, even if an exception is raised.\n",
    "- It simplifies the process of opening and working with files by automatically handling resource management.\n",
    "\n",
    "\n",
    "### 6. **Examples**:\n",
    "# Reading from a file\n",
    "with open(\"file.txt\", \"r\") as file:\n",
    "    content = file.read()\n",
    "    print(content)\n",
    "\n",
    "\n",
    "### Writing to a file\n",
    "with open(\"new_file.txt\", \"w\") as file:\n",
    "    file.write(\"Hello, World!\")\n",
    "\n",
    "\n",
    "### Appending to a file\n",
    "with open(\"existing_file.txt\", \"a\") as file:\n",
    "    file.write(\"\\nAppending new content.\")\n"
   ]
  },
  {
   "cell_type": "code",
   "execution_count": null,
   "id": "3fdfdcf4",
   "metadata": {},
   "outputs": [],
   "source": [
    "import os\n",
    "\n",
    "f = open(\"fruits.txt\", \"w\") #write only\n",
    "\n",
    "f.write(\"Hi Vithu\\n\")\n",
    "f.write(\"Hi Nila\\n\")\n",
    "f.write(\"Happy Coding\\n\")\n",
    "f.close()\n",
    "\n",
    "f = open(\"fruits.txt\", \"r+\") #read and write\n",
    "f.readline()\n",
    "\n",
    "#f.read()\n",
    "\n",
    "#os.remove(\"fruits.txt\")"
   ]
  },
  {
   "cell_type": "markdown",
   "id": "b352deaa",
   "metadata": {},
   "source": [
    "# Thank you\n",
    "\n",
    "###Happy Coding\n",
    "by - Vithusan\n",
    "https://www.linkedin.com/in/vimalathasvithusan"
   ]
  },
  {
   "cell_type": "code",
   "execution_count": null,
   "id": "92f76ecc",
   "metadata": {},
   "outputs": [],
   "source": []
  }
 ],
 "metadata": {
  "kernelspec": {
   "display_name": "Python 3 (ipykernel)",
   "language": "python",
   "name": "python3"
  },
  "language_info": {
   "codemirror_mode": {
    "name": "ipython",
    "version": 3
   },
   "file_extension": ".py",
   "mimetype": "text/x-python",
   "name": "python",
   "nbconvert_exporter": "python",
   "pygments_lexer": "ipython3",
   "version": "3.11.5"
  }
 },
 "nbformat": 4,
 "nbformat_minor": 5
}
